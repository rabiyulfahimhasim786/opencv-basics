{
 "cells": [
  {
   "cell_type": "code",
   "execution_count": 2,
   "id": "3ccd94fb",
   "metadata": {},
   "outputs": [],
   "source": [
    "#pylint:disable=no-member\n",
    "\n",
    "import cv2 as cv\n",
    "import numpy as np\n",
    "\n",
    "blank = np.zeros((500,500,3), dtype='uint8')\n",
    "cv.imshow('Blank', blank)\n",
    "cv.waitKey(0)\n",
    "cv.destroyAllWindows()\n",
    "#whiteFrame = 255 * np.ones((1000,1000,3), np.uint8)\n",
    "\n",
    "#255 is the color for filling the bytes.\n",
    "\n",
    "#1000, 1000 is the size of the image.\n",
    "\n",
    "#3 is the color channel for the image.\n",
    "\n",
    "#And unit8 is the type"
   ]
  },
  {
   "cell_type": "code",
   "execution_count": 18,
   "id": "a99205b1",
   "metadata": {},
   "outputs": [],
   "source": [
    "\n",
    "# 1. Paint the image a certain colour\n",
    "blank[200:300, 300:400] = 0,0,255\n",
    "cv.imshow('Green', blank)\n",
    "cv.waitKey(0)\n",
    "cv.destroyAllWindows()"
   ]
  },
  {
   "cell_type": "code",
   "execution_count": 10,
   "id": "63570770",
   "metadata": {},
   "outputs": [],
   "source": [
    "\n",
    "# 2. Draw a Rectangle\n",
    "#rectangle(img, pt1, pt2, color, thickness=none)\n",
    "cv.rectangle(blank, (0,0), (blank.shape[1]//2, blank.shape[0]//2), (0,255,0), thickness=-1)\n",
    "cv.imshow('Rectangle', blank)\n",
    "cv.waitKey(0)\n",
    "cv.destroyAllWindows()"
   ]
  },
  {
   "cell_type": "code",
   "execution_count": 3,
   "id": "57177a1c",
   "metadata": {},
   "outputs": [],
   "source": [
    "\n",
    "# 3. Draw A circle\n",
    "#cicle(img, center, radius, color, thickness=none, linetype=none, shift=none)\n",
    "cv.circle(blank, (blank.shape[1]//2, blank.shape[0]//2), 40, (0,0,255), thickness=-1)\n",
    "cv.imshow('Circle', blank)\n",
    "cv.waitKey(0)\n",
    "cv.destroyAllWindows()"
   ]
  },
  {
   "cell_type": "code",
   "execution_count": 12,
   "id": "e10e7347",
   "metadata": {},
   "outputs": [],
   "source": [
    "\n",
    "# 4. Draw a line\n",
    "#line(img, pt1, pt2, color, thickness=none)\n",
    "cv.line(blank, (100,250), (300,400), (255,255,255), thickness=3)\n",
    "cv.imshow('Line', blank)\n",
    "cv.waitKey(0)\n",
    "cv.destroyAllWindows()"
   ]
  },
  {
   "cell_type": "code",
   "execution_count": 21,
   "id": "7a29376c",
   "metadata": {},
   "outputs": [],
   "source": [
    "\n",
    "# 5. Write text\n",
    "#line(img, text, org, fontface, fontscale, color, thickness=none)\n",
    "cv.putText(blank, 'Hello, my name is Rabi!!!', (0,225), cv.FONT_HERSHEY_TRIPLEX, 1.0, (0,255,0), 2)\n",
    "cv.imshow('Text', blank)\n",
    "cv.waitKey(0)\n",
    "cv.destroyAllWindows()"
   ]
  },
  {
   "cell_type": "code",
   "execution_count": null,
   "id": "6faa0955",
   "metadata": {},
   "outputs": [],
   "source": []
  }
 ],
 "metadata": {
  "kernelspec": {
   "display_name": "Python 3 (ipykernel)",
   "language": "python",
   "name": "python3"
  },
  "language_info": {
   "codemirror_mode": {
    "name": "ipython",
    "version": 3
   },
   "file_extension": ".py",
   "mimetype": "text/x-python",
   "name": "python",
   "nbconvert_exporter": "python",
   "pygments_lexer": "ipython3",
   "version": "3.9.7"
  }
 },
 "nbformat": 4,
 "nbformat_minor": 5
}
