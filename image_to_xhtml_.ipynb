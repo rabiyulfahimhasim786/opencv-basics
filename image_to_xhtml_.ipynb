{
  "nbformat": 4,
  "nbformat_minor": 0,
  "metadata": {
    "colab": {
      "name": "image to xhtml .ipynb",
      "provenance": [],
      "collapsed_sections": [],
      "authorship_tag": "ABX9TyOmC0Lf3KkKqi5A72cuiqP+",
      "include_colab_link": true
    },
    "kernelspec": {
      "name": "python3",
      "display_name": "Python 3"
    },
    "language_info": {
      "name": "python"
    }
  },
  "cells": [
    {
      "cell_type": "markdown",
      "metadata": {
        "id": "view-in-github",
        "colab_type": "text"
      },
      "source": [
        "<a href=\"https://colab.research.google.com/github/rabiyulfahimhasim786/opencv-basics/blob/main/image_to_xhtml_.ipynb\" target=\"_parent\"><img src=\"https://colab.research.google.com/assets/colab-badge.svg\" alt=\"Open In Colab\"/></a>"
      ]
    },
    {
      "cell_type": "code",
      "execution_count": 1,
      "metadata": {
        "id": "uMD0fUceMt0K"
      },
      "outputs": [],
      "source": [
        "#references - https://bhadreshpsavani.medium.com/how-to-use-tesseract-library-for-ocr-in-google-colab-notebook-5da5470e4fe0 , https://stackoverflow.com/questions/56885443/tesseract-pyocr-detects-z-as-2"
      ]
    },
    {
      "cell_type": "code",
      "source": [
        "##https://github.com/madmaze/pytesseract"
      ],
      "metadata": {
        "id": "MTR3nZUZMxHf"
      },
      "execution_count": 2,
      "outputs": []
    },
    {
      "cell_type": "code",
      "source": [
        "##https://stackoverflow.com/questions/56885443/tesseract-pyocr-detects-z-as-2"
      ],
      "metadata": {
        "id": "Ia_R04lpMzY3"
      },
      "execution_count": 3,
      "outputs": []
    },
    {
      "cell_type": "code",
      "source": [
        "!sudo apt install tesseract-ocr"
      ],
      "metadata": {
        "colab": {
          "base_uri": "https://localhost:8080/"
        },
        "id": "6almqJdRM2-N",
        "outputId": "6a6ea550-110c-4697-a59e-0d0faa4159ec"
      },
      "execution_count": 4,
      "outputs": [
        {
          "output_type": "stream",
          "name": "stdout",
          "text": [
            "Reading package lists... Done\n",
            "Building dependency tree       \n",
            "Reading state information... Done\n",
            "The following package was automatically installed and is no longer required:\n",
            "  libnvidia-common-460\n",
            "Use 'sudo apt autoremove' to remove it.\n",
            "The following additional packages will be installed:\n",
            "  tesseract-ocr-eng tesseract-ocr-osd\n",
            "The following NEW packages will be installed:\n",
            "  tesseract-ocr tesseract-ocr-eng tesseract-ocr-osd\n",
            "0 upgraded, 3 newly installed, 0 to remove and 49 not upgraded.\n",
            "Need to get 4,795 kB of archives.\n",
            "After this operation, 15.8 MB of additional disk space will be used.\n",
            "Get:1 http://archive.ubuntu.com/ubuntu bionic/universe amd64 tesseract-ocr-eng all 4.00~git24-0e00fe6-1.2 [1,588 kB]\n",
            "Get:2 http://archive.ubuntu.com/ubuntu bionic/universe amd64 tesseract-ocr-osd all 4.00~git24-0e00fe6-1.2 [2,989 kB]\n",
            "Get:3 http://archive.ubuntu.com/ubuntu bionic/universe amd64 tesseract-ocr amd64 4.00~git2288-10f4998a-2 [218 kB]\n",
            "Fetched 4,795 kB in 0s (10.2 MB/s)\n",
            "debconf: unable to initialize frontend: Dialog\n",
            "debconf: (No usable dialog-like program is installed, so the dialog based frontend cannot be used. at /usr/share/perl5/Debconf/FrontEnd/Dialog.pm line 76, <> line 3.)\n",
            "debconf: falling back to frontend: Readline\n",
            "debconf: unable to initialize frontend: Readline\n",
            "debconf: (This frontend requires a controlling tty.)\n",
            "debconf: falling back to frontend: Teletype\n",
            "dpkg-preconfigure: unable to re-open stdin: \n",
            "Selecting previously unselected package tesseract-ocr-eng.\n",
            "(Reading database ... 155639 files and directories currently installed.)\n",
            "Preparing to unpack .../tesseract-ocr-eng_4.00~git24-0e00fe6-1.2_all.deb ...\n",
            "Unpacking tesseract-ocr-eng (4.00~git24-0e00fe6-1.2) ...\n",
            "Selecting previously unselected package tesseract-ocr-osd.\n",
            "Preparing to unpack .../tesseract-ocr-osd_4.00~git24-0e00fe6-1.2_all.deb ...\n",
            "Unpacking tesseract-ocr-osd (4.00~git24-0e00fe6-1.2) ...\n",
            "Selecting previously unselected package tesseract-ocr.\n",
            "Preparing to unpack .../tesseract-ocr_4.00~git2288-10f4998a-2_amd64.deb ...\n",
            "Unpacking tesseract-ocr (4.00~git2288-10f4998a-2) ...\n",
            "Setting up tesseract-ocr-osd (4.00~git24-0e00fe6-1.2) ...\n",
            "Setting up tesseract-ocr-eng (4.00~git24-0e00fe6-1.2) ...\n",
            "Setting up tesseract-ocr (4.00~git2288-10f4998a-2) ...\n",
            "Processing triggers for man-db (2.8.3-2ubuntu0.1) ...\n"
          ]
        }
      ]
    },
    {
      "cell_type": "code",
      "source": [
        "!pip install pytesseract"
      ],
      "metadata": {
        "colab": {
          "base_uri": "https://localhost:8080/",
          "height": 411
        },
        "id": "OnyYu2h8M4Pp",
        "outputId": "1c605c6e-9132-4e2c-e731-93de894df47d"
      },
      "execution_count": 5,
      "outputs": [
        {
          "output_type": "stream",
          "name": "stdout",
          "text": [
            "Looking in indexes: https://pypi.org/simple, https://us-python.pkg.dev/colab-wheels/public/simple/\n",
            "Collecting pytesseract\n",
            "  Downloading pytesseract-0.3.9-py2.py3-none-any.whl (14 kB)\n",
            "Collecting Pillow>=8.0.0\n",
            "  Downloading Pillow-9.1.1-cp37-cp37m-manylinux_2_17_x86_64.manylinux2014_x86_64.whl (3.1 MB)\n",
            "\u001b[K     |████████████████████████████████| 3.1 MB 5.3 MB/s \n",
            "\u001b[?25hRequirement already satisfied: packaging>=21.3 in /usr/local/lib/python3.7/dist-packages (from pytesseract) (21.3)\n",
            "Requirement already satisfied: pyparsing!=3.0.5,>=2.0.2 in /usr/local/lib/python3.7/dist-packages (from packaging>=21.3->pytesseract) (3.0.9)\n",
            "Installing collected packages: Pillow, pytesseract\n",
            "  Attempting uninstall: Pillow\n",
            "    Found existing installation: Pillow 7.1.2\n",
            "    Uninstalling Pillow-7.1.2:\n",
            "      Successfully uninstalled Pillow-7.1.2\n",
            "\u001b[31mERROR: pip's dependency resolver does not currently take into account all the packages that are installed. This behaviour is the source of the following dependency conflicts.\n",
            "albumentations 0.1.12 requires imgaug<0.2.7,>=0.2.5, but you have imgaug 0.2.9 which is incompatible.\u001b[0m\n",
            "Successfully installed Pillow-9.1.1 pytesseract-0.3.9\n"
          ]
        },
        {
          "output_type": "display_data",
          "data": {
            "application/vnd.colab-display-data+json": {
              "pip_warning": {
                "packages": [
                  "PIL"
                ]
              }
            }
          },
          "metadata": {}
        }
      ]
    },
    {
      "cell_type": "code",
      "source": [
        "!pip install opencv-python"
      ],
      "metadata": {
        "colab": {
          "base_uri": "https://localhost:8080/"
        },
        "id": "tzqXy0uuM6WW",
        "outputId": "479f1bde-2a5a-4285-8eb0-70a52438d969"
      },
      "execution_count": 6,
      "outputs": [
        {
          "output_type": "stream",
          "name": "stdout",
          "text": [
            "Looking in indexes: https://pypi.org/simple, https://us-python.pkg.dev/colab-wheels/public/simple/\n",
            "Requirement already satisfied: opencv-python in /usr/local/lib/python3.7/dist-packages (4.1.2.30)\n",
            "Requirement already satisfied: numpy>=1.14.5 in /usr/local/lib/python3.7/dist-packages (from opencv-python) (1.21.6)\n"
          ]
        }
      ]
    },
    {
      "cell_type": "code",
      "source": [
        "!pip install -U pillow"
      ],
      "metadata": {
        "colab": {
          "base_uri": "https://localhost:8080/"
        },
        "id": "BkDpSUxNM7yW",
        "outputId": "2d023641-4e38-4d34-edba-e7be29e08849"
      },
      "execution_count": 7,
      "outputs": [
        {
          "output_type": "stream",
          "name": "stdout",
          "text": [
            "Looking in indexes: https://pypi.org/simple, https://us-python.pkg.dev/colab-wheels/public/simple/\n",
            "Requirement already satisfied: pillow in /usr/local/lib/python3.7/dist-packages (9.1.1)\n"
          ]
        }
      ]
    },
    {
      "cell_type": "code",
      "source": [
        "import pytesseract\n",
        "import cv2\n",
        "\n",
        "#pytesseract.pytesseract.tesseract_cmd = 'C:\\\\Program Files (x86)\\\\Tesseract-OCR\\\\tesseract.exe'\n",
        "\n",
        "img = cv2.imread('test.png')\n",
        "\n",
        "gray = cv2.cvtColor(img, cv2.COLOR_BGR2GRAY)\n",
        "adaptiveThresh = cv2.adaptiveThreshold(gray, 255, cv2.ADAPTIVE_THRESH_MEAN_C, cv2.THRESH_BINARY, 15, 12)\n",
        "\n",
        "config = '-l eng --oem 1 --psm 3'\n",
        "text = pytesseract.image_to_string(adaptiveThresh, config=config)\n",
        "\n",
        "print(\"Result: \" + text)\n",
        "\n",
        "#cv2.imshow('original', img)\n",
        "#cv2.imshow('adaptiveThresh', adaptiveThresh)\n",
        "\n",
        "#cv2.waitKey(0)"
      ],
      "metadata": {
        "colab": {
          "base_uri": "https://localhost:8080/"
        },
        "id": "v1GjUQNlM_VH",
        "outputId": "9344bbf0-2fe8-44f0-f1f8-aa915590c85c"
      },
      "execution_count": 1,
      "outputs": [
        {
          "output_type": "stream",
          "name": "stdout",
          "text": [
            "Result: ES\n",
            "\n",
            "   \n",
            " \n",
            "  \n",
            "   \n",
            "   \n",
            "   \n",
            " \n",
            "   \n",
            " \n",
            "   \n",
            "   \n",
            "  \n",
            "   \n",
            "   \n",
            "   \n",
            "  \n",
            "  \n",
            "\n",
            " \n",
            "\n",
            " \n",
            "\n",
            " \n",
            "\n",
            " \n",
            "\n",
            " \n",
            "\n",
            "Billed To. Invoice Number Invoice Total\n",
            "Client Name oaooca $\n",
            "1 Client Address. 4520 .00\n",
            "City, State, Country Dale Of Issue\n",
            "ZIP CODE 10/07/14\n",
            "Description Unit Cost Qty / Hr Rate Amount\n",
            "Your item Name $1000 1 1000\n",
            "Item description goes hera\n",
            "‘Your item Name $1000 1 1000\n",
            "Item description goes here\n",
            "Your Item Name $1000 1 4000\n",
            "Item description goes here\n",
            "‘Your Item Name $1000 1 1c0c\n",
            "Item description goes here\n",
            "Subtotal $4000.00\n",
            "Tax $520.00\n",
            "Total $4520.00\n",
            "Invoice Terms.\n",
            "\n",
            "Ex. Please pay your Invoice by... Amount Due (USD) $4520.00\n",
            "\n",
            "     \n",
            "\f\n"
          ]
        }
      ]
    },
    {
      "cell_type": "code",
      "source": [
        "img = cv2.imread('test.png')\n",
        "\n",
        "gray = cv2.cvtColor(img, cv2.COLOR_BGR2GRAY)\n",
        "adaptiveThresh = cv2.adaptiveThreshold(gray, 255, cv2.ADAPTIVE_THRESH_MEAN_C, cv2.THRESH_BINARY, 15, 12)\n",
        "\n",
        "config = '-l eng --oem 1 --psm 3'\n",
        "pdf = pytesseract.image_to_pdf_or_hocr(adaptiveThresh, config=config, extension='pdf')\n",
        "with open('test.pdf',mode ='w+b') as file:\n",
        "  file.write(pdf)\n",
        "  file.close\n",
        "##image = 'bill.jpg'\n",
        "###configuration = r'--oem 3 --psm 6'\n",
        "#pdf = pytesseract.image_to_pdf_or_hocr(Image.open(image), lang=\"eng\", extension='pdf', config=configuration)\n",
        "#print(pdf)\n",
        "#https://stackoverflow.com/questions/56885443/tesseract-pyocr-detects-z-as-2"
      ],
      "metadata": {
        "id": "Z3MwKqn1NJmj"
      },
      "execution_count": 2,
      "outputs": []
    },
    {
      "cell_type": "code",
      "source": [
        "img = cv2.imread('test.png')\n",
        "\n",
        "gray = cv2.cvtColor(img, cv2.COLOR_BGR2GRAY)\n",
        "adaptiveThresh = cv2.adaptiveThreshold(gray, 255, cv2.ADAPTIVE_THRESH_MEAN_C, cv2.THRESH_BINARY, 15, 12)\n",
        "\n",
        "config = '-l eng --oem 1 --psm 3'\n",
        "#pdf = pytesseract.image_to_pdf_or_hocr(adaptiveThresh, config=config, extension='pdf')\n",
        "hocr = pytesseract.image_to_pdf_or_hocr(adaptiveThresh, config=config, extension='hocr')\n",
        "with open('test.html',mode ='w+b') as file:\n",
        "  file.write(hocr)\n",
        "  file.close"
      ],
      "metadata": {
        "id": "NTdnYT00NMv1"
      },
      "execution_count": 4,
      "outputs": []
    },
    {
      "cell_type": "code",
      "source": [
        "print(hocr)"
      ],
      "metadata": {
        "id": "F3xyWXDmNOfL"
      },
      "execution_count": null,
      "outputs": []
    },
    {
      "cell_type": "code",
      "source": [
        "img = cv2.imread('bill.png')\n",
        "\n",
        "gray = cv2.cvtColor(img, cv2.COLOR_BGR2GRAY)\n",
        "adaptiveThresh = cv2.adaptiveThreshold(gray, 255, cv2.ADAPTIVE_THRESH_MEAN_C, cv2.THRESH_BINARY, 15, 12)\n",
        "\n",
        "config = '-l eng --oem 1 --psm 3'\n",
        "#pdf = pytesseract.image_to_pdf_or_hocr(adaptiveThresh, config=config, extension='pdf')\n",
        "#hocr = pytesseract.image_to_pdf_or_hocr(adaptiveThresh, config=config, extension='hocr')\n",
        "xml = pytesseract.image_to_alto_xml(adaptiveThresh, config=config)\n"
      ],
      "metadata": {
        "id": "5YXat6nBNVPC"
      },
      "execution_count": null,
      "outputs": []
    }
  ]
}