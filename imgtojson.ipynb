{
  "nbformat": 4,
  "nbformat_minor": 0,
  "metadata": {
    "colab": {
      "provenance": [],
      "collapsed_sections": []
    },
    "kernelspec": {
      "name": "python3",
      "display_name": "Python 3"
    },
    "language_info": {
      "name": "python"
    }
  },
  "cells": [
    {
      "cell_type": "code",
      "execution_count": 1,
      "metadata": {
        "colab": {
          "base_uri": "https://localhost:8080/"
        },
        "id": "J81Hxl-1BZpC",
        "outputId": "14c642e2-f5e9-4d88-a8ef-17cd4d6ed1ff"
      },
      "outputs": [
        {
          "output_type": "stream",
          "name": "stdout",
          "text": [
            "Looking in indexes: https://pypi.org/simple, https://us-python.pkg.dev/colab-wheels/public/simple/\n",
            "Requirement already satisfied: opencv-python in /usr/local/lib/python3.7/dist-packages (4.6.0.66)\n",
            "Requirement already satisfied: numpy>=1.14.5 in /usr/local/lib/python3.7/dist-packages (from opencv-python) (1.21.6)\n"
          ]
        }
      ],
      "source": [
        "!pip install opencv-python"
      ]
    },
    {
      "cell_type": "code",
      "source": [
        "!pip install pytesseract"
      ],
      "metadata": {
        "colab": {
          "base_uri": "https://localhost:8080/"
        },
        "id": "qQokSgcTBgB_",
        "outputId": "bc513777-5376-4176-e1b8-6860fb7d47cf"
      },
      "execution_count": 5,
      "outputs": [
        {
          "output_type": "stream",
          "name": "stdout",
          "text": [
            "Looking in indexes: https://pypi.org/simple, https://us-python.pkg.dev/colab-wheels/public/simple/\n",
            "Requirement already satisfied: pytesseract in /usr/local/lib/python3.7/dist-packages (0.3.10)\n",
            "Requirement already satisfied: Pillow>=8.0.0 in /usr/local/lib/python3.7/dist-packages (from pytesseract) (9.2.0)\n",
            "Requirement already satisfied: packaging>=21.3 in /usr/local/lib/python3.7/dist-packages (from pytesseract) (21.3)\n",
            "Requirement already satisfied: pyparsing!=3.0.5,>=2.0.2 in /usr/local/lib/python3.7/dist-packages (from packaging>=21.3->pytesseract) (3.0.9)\n"
          ]
        }
      ]
    },
    {
      "cell_type": "code",
      "source": [
        "!sudo apt install tesseract-ocr"
      ],
      "metadata": {
        "colab": {
          "base_uri": "https://localhost:8080/"
        },
        "id": "oJjIQxnZCrV6",
        "outputId": "74dc1357-720c-4ead-9bcc-c439d5f0e715"
      },
      "execution_count": 9,
      "outputs": [
        {
          "output_type": "stream",
          "name": "stdout",
          "text": [
            "Reading package lists... Done\n",
            "Building dependency tree       \n",
            "Reading state information... Done\n",
            "The following package was automatically installed and is no longer required:\n",
            "  libnvidia-common-460\n",
            "Use 'sudo apt autoremove' to remove it.\n",
            "The following additional packages will be installed:\n",
            "  tesseract-ocr-eng tesseract-ocr-osd\n",
            "The following NEW packages will be installed:\n",
            "  tesseract-ocr tesseract-ocr-eng tesseract-ocr-osd\n",
            "0 upgraded, 3 newly installed, 0 to remove and 20 not upgraded.\n",
            "Need to get 4,795 kB of archives.\n",
            "After this operation, 15.8 MB of additional disk space will be used.\n",
            "Get:1 http://archive.ubuntu.com/ubuntu bionic/universe amd64 tesseract-ocr-eng all 4.00~git24-0e00fe6-1.2 [1,588 kB]\n",
            "Get:2 http://archive.ubuntu.com/ubuntu bionic/universe amd64 tesseract-ocr-osd all 4.00~git24-0e00fe6-1.2 [2,989 kB]\n",
            "Get:3 http://archive.ubuntu.com/ubuntu bionic/universe amd64 tesseract-ocr amd64 4.00~git2288-10f4998a-2 [218 kB]\n",
            "Fetched 4,795 kB in 0s (18.5 MB/s)\n",
            "debconf: unable to initialize frontend: Dialog\n",
            "debconf: (No usable dialog-like program is installed, so the dialog based frontend cannot be used. at /usr/share/perl5/Debconf/FrontEnd/Dialog.pm line 76, <> line 3.)\n",
            "debconf: falling back to frontend: Readline\n",
            "debconf: unable to initialize frontend: Readline\n",
            "debconf: (This frontend requires a controlling tty.)\n",
            "debconf: falling back to frontend: Teletype\n",
            "dpkg-preconfigure: unable to re-open stdin: \n",
            "Selecting previously unselected package tesseract-ocr-eng.\n",
            "(Reading database ... 155569 files and directories currently installed.)\n",
            "Preparing to unpack .../tesseract-ocr-eng_4.00~git24-0e00fe6-1.2_all.deb ...\n",
            "Unpacking tesseract-ocr-eng (4.00~git24-0e00fe6-1.2) ...\n",
            "Selecting previously unselected package tesseract-ocr-osd.\n",
            "Preparing to unpack .../tesseract-ocr-osd_4.00~git24-0e00fe6-1.2_all.deb ...\n",
            "Unpacking tesseract-ocr-osd (4.00~git24-0e00fe6-1.2) ...\n",
            "Selecting previously unselected package tesseract-ocr.\n",
            "Preparing to unpack .../tesseract-ocr_4.00~git2288-10f4998a-2_amd64.deb ...\n",
            "Unpacking tesseract-ocr (4.00~git2288-10f4998a-2) ...\n",
            "Setting up tesseract-ocr-osd (4.00~git24-0e00fe6-1.2) ...\n",
            "Setting up tesseract-ocr-eng (4.00~git24-0e00fe6-1.2) ...\n",
            "Setting up tesseract-ocr (4.00~git2288-10f4998a-2) ...\n",
            "Processing triggers for man-db (2.8.3-2ubuntu0.1) ...\n"
          ]
        }
      ]
    },
    {
      "cell_type": "code",
      "source": [
        "# importing modules\n",
        "from google.colab.patches import cv2_imshow\n",
        "import cv2\n",
        "import pytesseract\n",
        " # reading image using opencv\n",
        "\n",
        "image = cv2.imread('bill.jpg')\n",
        "\n",
        " #converting image into gray scale image\n",
        "\n",
        "gray_image = cv2.cvtColor(image, cv2.COLOR_BGR2GRAY)\n",
        "\n",
        " # converting it to binary image by Thresholding\n",
        "\n",
        " # this step is require if you have colored image because if you skip this part\n",
        "\n",
        " # then tesseract won't able to detect text correctly and this will give incorrect result\n",
        "\n",
        "threshold_img = cv2.threshold(gray_image, 0, 255, cv2.THRESH_BINARY | cv2.THRESH_OTSU)[1]\n",
        "\n",
        "cv2_imshow(threshold_img)"
      ],
      "metadata": {
        "colab": {
          "base_uri": "https://localhost:8080/",
          "height": 467
        },
        "id": "O3Szok3YBjSH",
        "outputId": "0a9bc66c-0281-40da-bfdc-ab1ef9ff1a10"
      },
      "execution_count": 17,
      "outputs": [
        {
          "output_type": "display_data",
          "data": {
            "text/plain": [
              "<PIL.Image.Image image mode=L size=338x450>"
            ],
            "image/png": "[encoded data removed]"
          },
          "metadata": {}
        }
      ]
    },
    {
      "cell_type": "code",
      "source": [
        " #configuring parameters for tesseract\n",
        "import pytesseract\n",
        "from pytesseract import Output\n",
        "custom_config = r'-l eng --oem 1 --psm 6 '\n",
        "\n",
        " # now feeding image to tesseract\n",
        "\n",
        "details = pytesseract.image_to_data(threshold_img, output_type=Output.DICT, config=custom_config)\n",
        "\n",
        "print(details.keys())\n",
        "print(details)"
      ],
      "metadata": {
        "colab": {
          "base_uri": "https://localhost:8080/"
        },
        "id": "QayIzHu-CN5J",
        "outputId": "f2000b7e-2c6c-4969-ff58-43f8bd224a74"
      },
      "execution_count": 18,
      "outputs": [
        {
          "output_type": "stream",
          "name": "stdout",
          "text": [
            "dict_keys(['level', 'page_num', 'block_num', 'par_num', 'line_num', 'word_num', 'left', 'top', 'width', 'height', 'conf', 'text'])\n",
            "{'level': [1, 2, 3, 4, 5, 4, 5, 5, 4, 5, 5, 4, 5, 5, 5, 5, 5, 5, 4, 5, 5, 5, 5, 4, 5, 5, 4, 5, 5, 5, 4, 5, 5, 5, 5, 4, 5, 5, 5, 5, 5, 5, 4, 5, 5, 5, 5, 5, 5, 4, 5, 5, 5, 4, 5, 5, 4, 5, 5, 5, 5, 4, 5, 5], 'page_num': [1, 1, 1, 1, 1, 1, 1, 1, 1, 1, 1, 1, 1, 1, 1, 1, 1, 1, 1, 1, 1, 1, 1, 1, 1, 1, 1, 1, 1, 1, 1, 1, 1, 1, 1, 1, 1, 1, 1, 1, 1, 1, 1, 1, 1, 1, 1, 1, 1, 1, 1, 1, 1, 1, 1, 1, 1, 1, 1, 1, 1, 1, 1, 1], 'block_num': [0, 1, 1, 1, 1, 1, 1, 1, 1, 1, 1, 1, 1, 1, 1, 1, 1, 1, 1, 1, 1, 1, 1, 1, 1, 1, 1, 1, 1, 1, 1, 1, 1, 1, 1, 1, 1, 1, 1, 1, 1, 1, 1, 1, 1, 1, 1, 1, 1, 1, 1, 1, 1, 1, 1, 1, 1, 1, 1, 1, 1, 1, 1, 1], 'par_num': [0, 0, 1, 1, 1, 1, 1, 1, 1, 1, 1, 1, 1, 1, 1, 1, 1, 1, 1, 1, 1, 1, 1, 1, 1, 1, 1, 1, 1, 1, 1, 1, 1, 1, 1, 1, 1, 1, 1, 1, 1, 1, 1, 1, 1, 1, 1, 1, 1, 1, 1, 1, 1, 1, 1, 1, 1, 1, 1, 1, 1, 1, 1, 1], 'line_num': [0, 0, 0, 1, 1, 2, 2, 2, 3, 3, 3, 4, 4, 4, 4, 4, 4, 4, 5, 5, 5, 5, 5, 6, 6, 6, 7, 7, 7, 7, 8, 8, 8, 8, 8, 9, 9, 9, 9, 9, 9, 9, 10, 10, 10, 10, 10, 10, 10, 11, 11, 11, 11, 12, 12, 12, 13, 13, 13, 13, 13, 14, 14, 14], 'word_num': [0, 0, 0, 0, 1, 0, 1, 2, 0, 1, 2, 0, 1, 2, 3, 4, 5, 6, 0, 1, 2, 3, 4, 0, 1, 2, 0, 1, 2, 3, 0, 1, 2, 3, 4, 0, 1, 2, 3, 4, 5, 6, 0, 1, 2, 3, 4, 5, 6, 0, 1, 2, 3, 0, 1, 2, 0, 1, 2, 3, 4, 0, 1, 2], 'left': [0, 42, 42, 301, 301, 245, 245, 304, 231, 231, 308, 42, 42, 70, 110, 192, 229, 312, 48, 48, 119, 161, 288, 143, 143, 318, 103, 103, 133, 320, 54, 54, 176, 204, 324, 50, 50, 133, 157, 191, 226, 327, 48, 48, 80, 173, 187, 234, 330, 45, 45, 173, 235, 42, 42, 209, 42, 42, 136, 255, 305, 210, 210, 262], 'top': [0, 0, 0, 20, 20, 0, 0, 39, 57, 57, 66, 96, 110, 100, 101, 102, 104, 96, 115, 120, 115, 115, 120, 130, 130, 137, 146, 148, 146, 151, 178, 180, 180, 178, 181, 211, 214, 214, 213, 213, 212, 211, 243, 250, 250, 249, 249, 250, 243, 268, 269, 268, 268, 328, 330, 328, 363, 371, 368, 364, 363, 407, 408, 406], 'width': [338, 289, 289, 3, 3, 66, 12, 7, 84, 25, 7, 274, 5, 28, 73, 30, 2, 4, 270, 2, 38, 27, 30, 177, 27, 2, 219, 25, 70, 2, 272, 47, 4, 51, 2, 280, 60, 9, 14, 18, 31, 3, 283, 26, 22, 3, 25, 27, 1, 217, 33, 39, 27, 219, 44, 52, 288, 15, 40, 3, 25, 103, 46, 51], 'height': [450, 450, 450, 18, 18, 60, 56, 21, 19, 17, 10, 20, 6, 12, 11, 9, 8, 17, 13, 3, 12, 10, 8, 12, 12, 5, 13, 11, 12, 5, 14, 12, 10, 12, 3, 20, 12, 12, 12, 11, 12, 20, 21, 14, 13, 13, 13, 12, 3, 15, 14, 13, 13, 16, 14, 14, 23, 13, 14, 11, 23, 43, 28, 44], 'conf': [-1, -1, -1, -1, 0, -1, 48, 0, -1, 27, 0, -1, 19, 0, 0, 0, 42, 21, -1, 0, 0, 4, 16, -1, 39, 0, -1, 0, 0, 0, -1, 52, 36, 40, 0, -1, 3, 30, 0, 20, 10, 22, -1, 13, 14, 27, 0, 23, 0, -1, 19, 83, 69, -1, 95, 89, -1, 53, 43, 42, 17, -1, 27, 37], 'text': ['', '', '', '', 'p', '', '\\\\', 'iy', '', 'a', 'i', '', 'J', 'ONEM', 'SHANEHOLS', 'H041', '4', 'if', '', 'b', 'HANES', 'CIRDLE', 'yo', '', 'HT', ';', '', 'STN.', '23APSUAOALLAP', 'D', '', '4.000180', '0', 'Bests', 'y', '', 'UESCRIPHION', 'TK', 'OIY', 'RT', 'aM', '4', '', '‘Ppa', 'D0SA', '1', 'Y.OL', 'i', ':', '', 'SAAD', '130', '3.0', '', 'CASH', '75.00', '', 'Ci', '114456', 'i', '1)', '', 'on', 'a']}\n"
          ]
        }
      ]
    },
    {
      "cell_type": "code",
      "source": [
        "total_boxes = len(details['text'])\n",
        "\n",
        "for sequence_number in range(total_boxes):\n",
        "  if int(details['conf'][sequence_number]) >30:\n",
        "    (x, y, w, h) = (details['left'][sequence_number], details['top'][sequence_number], details['width'][sequence_number],  details['height'][sequence_number])\n",
        "    threshold_img = cv2.rectangle(threshold_img, (x, y), (x + w, y + h), (0, 255, 0), 2)\n",
        "cv2_imshow(threshold_img)"
      ],
      "metadata": {
        "colab": {
          "base_uri": "https://localhost:8080/",
          "height": 467
        },
        "id": "KJaZXcFMC4Qa",
        "outputId": "53019d7d-185b-4e11-ef1d-a33636082152"
      },
      "execution_count": 19,
      "outputs": [
        {
          "output_type": "display_data",
          "data": {
            "text/plain": [
              "<PIL.Image.Image image mode=L size=338x450>"
            ],
            "image/png": "[encoded data removed]"
          },
          "metadata": {}
        }
      ]
    },
    {
      "cell_type": "code",
      "source": [
        "parse_text = []\n",
        "\n",
        "word_list = []\n",
        "\n",
        "last_word = ''\n",
        "\n",
        "for word in details['text']:\n",
        "  if word!='':\n",
        "    word_list.append(word)\n",
        "    last_word = word\n",
        "  if (last_word!='' and word == '') or (word==details['text'][-1]):\n",
        "    parse_text.append(word_list)\n",
        "    word_list = []"
      ],
      "metadata": {
        "id": "FCPJQ8fDDJG6"
      },
      "execution_count": 20,
      "outputs": []
    },
    {
      "cell_type": "code",
      "source": [
        "import csv\n",
        "\n",
        "with open('result_text.txt',  'w', newline=\"\") as file:\n",
        "  csv.writer(file, delimiter=\" \").writerows(parse_text)"
      ],
      "metadata": {
        "id": "hNqh1YuBCqq0"
      },
      "execution_count": 21,
      "outputs": []
    },
    {
      "cell_type": "code",
      "source": [
        "print(parse_text)\n",
        "#print(parse_text)"
      ],
      "metadata": {
        "colab": {
          "base_uri": "https://localhost:8080/"
        },
        "id": "2sRdr5EtDgvq",
        "outputId": "c4ea2f76-3de8-474d-a21a-46452e2c38f1"
      },
      "execution_count": 22,
      "outputs": [
        {
          "output_type": "stream",
          "name": "stdout",
          "text": [
            "[['p'], ['\\\\', 'iy'], ['a'], ['i'], ['J', 'ONEM', 'SHANEHOLS', 'H041', '4', 'if'], ['b', 'HANES', 'CIRDLE', 'yo'], ['HT', ';'], ['STN.', '23APSUAOALLAP', 'D'], ['4.000180', '0', 'Bests', 'y'], ['UESCRIPHION', 'TK', 'OIY', 'RT', 'aM', '4'], ['‘Ppa', 'D0SA', '1', 'Y.OL', 'i', ':'], ['SAAD', '130', '3.0'], ['CASH', '75.00'], ['Ci', '114456', 'i', '1)'], ['on', 'a']]\n"
          ]
        }
      ]
    },
    {
      "cell_type": "markdown",
      "source": [
        "**image to hocr and xml**"
      ],
      "metadata": {
        "id": "3A8uWaWlEPTk"
      }
    },
    {
      "cell_type": "code",
      "source": [
        "import cv2\n",
        "import pytesseract\n",
        "from pytesseract import Output\n",
        "import pandas as pd"
      ],
      "metadata": {
        "id": "wTCW7mKPEOhG"
      },
      "execution_count": 23,
      "outputs": []
    },
    {
      "cell_type": "code",
      "source": [
        "img = cv2.imread(\"bill.jpg\")\n",
        "gray = cv2.cvtColor(img, cv2.COLOR_BGR2GRAY)\n",
        "thresh = cv2.threshold(gray, 127, 255, cv2.THRESH_BINARY + cv2.THRESH_OTSU)[1]"
      ],
      "metadata": {
        "id": "Tm6A7qCtEWzs"
      },
      "execution_count": 25,
      "outputs": []
    },
    {
      "cell_type": "code",
      "source": [
        "custom_config = r'-l eng --oem 1 --psm 6 '\n",
        "d = pytesseract.image_to_data(thresh, config=custom_config, output_type=Output.DICT)\n",
        "df = pd.DataFrame(d)\n",
        "print(d)\n",
        "df"
      ],
      "metadata": {
        "colab": {
          "base_uri": "https://localhost:8080/",
          "height": 462
        },
        "id": "oA4D1_FsEbCo",
        "outputId": "41c4088c-564c-4bb8-9b6c-2cb3b2f674ff"
      },
      "execution_count": 27,
      "outputs": [
        {
          "output_type": "stream",
          "name": "stdout",
          "text": [
            "{'level': [1, 2, 3, 4, 5, 4, 5, 5, 4, 5, 5, 4, 5, 5, 5, 5, 5, 5, 4, 5, 5, 5, 5, 4, 5, 5, 4, 5, 5, 5, 4, 5, 5, 5, 5, 4, 5, 5, 5, 5, 5, 5, 4, 5, 5, 5, 5, 5, 5, 4, 5, 5, 5, 4, 5, 5, 4, 5, 5, 5, 5, 4, 5, 5], 'page_num': [1, 1, 1, 1, 1, 1, 1, 1, 1, 1, 1, 1, 1, 1, 1, 1, 1, 1, 1, 1, 1, 1, 1, 1, 1, 1, 1, 1, 1, 1, 1, 1, 1, 1, 1, 1, 1, 1, 1, 1, 1, 1, 1, 1, 1, 1, 1, 1, 1, 1, 1, 1, 1, 1, 1, 1, 1, 1, 1, 1, 1, 1, 1, 1], 'block_num': [0, 1, 1, 1, 1, 1, 1, 1, 1, 1, 1, 1, 1, 1, 1, 1, 1, 1, 1, 1, 1, 1, 1, 1, 1, 1, 1, 1, 1, 1, 1, 1, 1, 1, 1, 1, 1, 1, 1, 1, 1, 1, 1, 1, 1, 1, 1, 1, 1, 1, 1, 1, 1, 1, 1, 1, 1, 1, 1, 1, 1, 1, 1, 1], 'par_num': [0, 0, 1, 1, 1, 1, 1, 1, 1, 1, 1, 1, 1, 1, 1, 1, 1, 1, 1, 1, 1, 1, 1, 1, 1, 1, 1, 1, 1, 1, 1, 1, 1, 1, 1, 1, 1, 1, 1, 1, 1, 1, 1, 1, 1, 1, 1, 1, 1, 1, 1, 1, 1, 1, 1, 1, 1, 1, 1, 1, 1, 1, 1, 1], 'line_num': [0, 0, 0, 1, 1, 2, 2, 2, 3, 3, 3, 4, 4, 4, 4, 4, 4, 4, 5, 5, 5, 5, 5, 6, 6, 6, 7, 7, 7, 7, 8, 8, 8, 8, 8, 9, 9, 9, 9, 9, 9, 9, 10, 10, 10, 10, 10, 10, 10, 11, 11, 11, 11, 12, 12, 12, 13, 13, 13, 13, 13, 14, 14, 14], 'word_num': [0, 0, 0, 0, 1, 0, 1, 2, 0, 1, 2, 0, 1, 2, 3, 4, 5, 6, 0, 1, 2, 3, 4, 0, 1, 2, 0, 1, 2, 3, 0, 1, 2, 3, 4, 0, 1, 2, 3, 4, 5, 6, 0, 1, 2, 3, 4, 5, 6, 0, 1, 2, 3, 0, 1, 2, 0, 1, 2, 3, 4, 0, 1, 2], 'left': [0, 42, 42, 301, 301, 245, 245, 304, 231, 231, 308, 42, 42, 70, 110, 192, 229, 312, 48, 48, 119, 161, 288, 143, 143, 318, 103, 103, 133, 320, 54, 54, 176, 204, 324, 50, 50, 133, 157, 191, 226, 327, 48, 48, 80, 173, 187, 234, 330, 45, 45, 173, 235, 42, 42, 209, 42, 42, 136, 255, 305, 210, 210, 262], 'top': [0, 0, 0, 20, 20, 0, 0, 39, 57, 57, 66, 96, 110, 100, 101, 102, 104, 96, 115, 120, 115, 115, 120, 130, 130, 137, 146, 148, 146, 151, 178, 180, 180, 178, 181, 211, 214, 214, 213, 213, 212, 211, 243, 250, 250, 249, 249, 250, 243, 268, 269, 268, 268, 328, 330, 328, 363, 371, 368, 364, 363, 407, 408, 406], 'width': [338, 289, 289, 3, 3, 66, 12, 7, 84, 25, 7, 274, 5, 28, 73, 30, 2, 4, 270, 2, 38, 27, 30, 177, 27, 2, 219, 25, 70, 2, 272, 47, 4, 51, 2, 280, 60, 9, 14, 18, 31, 3, 283, 26, 22, 3, 25, 27, 1, 217, 33, 39, 27, 219, 44, 52, 288, 15, 40, 3, 25, 103, 46, 51], 'height': [450, 450, 450, 18, 18, 60, 56, 21, 19, 17, 10, 20, 6, 12, 11, 9, 8, 17, 13, 3, 12, 10, 8, 12, 12, 5, 13, 11, 12, 5, 14, 12, 10, 12, 3, 20, 12, 12, 12, 11, 12, 20, 21, 14, 13, 13, 13, 12, 3, 15, 14, 13, 13, 16, 14, 14, 23, 13, 14, 11, 23, 43, 28, 44], 'conf': [-1, -1, -1, -1, 0, -1, 48, 0, -1, 27, 0, -1, 19, 0, 0, 0, 42, 21, -1, 0, 0, 4, 16, -1, 39, 0, -1, 0, 0, 0, -1, 52, 36, 40, 0, -1, 3, 30, 0, 20, 10, 22, -1, 13, 14, 27, 0, 23, 0, -1, 19, 83, 69, -1, 95, 89, -1, 53, 43, 42, 17, -1, 27, 37], 'text': ['', '', '', '', 'p', '', '\\\\', 'iy', '', 'a', 'i', '', 'J', 'ONEM', 'SHANEHOLS', 'H041', '4', 'if', '', 'b', 'HANES', 'CIRDLE', 'yo', '', 'HT', ';', '', 'STN.', '23APSUAOALLAP', 'D', '', '4.000180', '0', 'Bests', 'y', '', 'UESCRIPHION', 'TK', 'OIY', 'RT', 'aM', '4', '', '‘Ppa', 'D0SA', '1', 'Y.OL', 'i', ':', '', 'SAAD', '130', '3.0', '', 'CASH', '75.00', '', 'Ci', '114456', 'i', '1)', '', 'on', 'a']}\n"
          ]
        },
        {
          "output_type": "execute_result",
          "data": {
            "text/plain": [
              "    level  page_num  block_num  par_num  line_num  word_num  left  top  width  \\\n",
              "0       1         1          0        0         0         0     0    0    338   \n",
              "1       2         1          1        0         0         0    42    0    289   \n",
              "2       3         1          1        1         0         0    42    0    289   \n",
              "3       4         1          1        1         1         0   301   20      3   \n",
              "4       5         1          1        1         1         1   301   20      3   \n",
              "..    ...       ...        ...      ...       ...       ...   ...  ...    ...   \n",
              "59      5         1          1        1        13         3   255  364      3   \n",
              "60      5         1          1        1        13         4   305  363     25   \n",
              "61      4         1          1        1        14         0   210  407    103   \n",
              "62      5         1          1        1        14         1   210  408     46   \n",
              "63      5         1          1        1        14         2   262  406     51   \n",
              "\n",
              "    height  conf text  \n",
              "0      450    -1       \n",
              "1      450    -1       \n",
              "2      450    -1       \n",
              "3       18    -1       \n",
              "4       18     0    p  \n",
              "..     ...   ...  ...  \n",
              "59      11    42    i  \n",
              "60      23    17   1)  \n",
              "61      43    -1       \n",
              "62      28    27   on  \n",
              "63      44    37    a  \n",
              "\n",
              "[64 rows x 12 columns]"
            ],
            "text/html": [
              "\n",
              "  <div id=\"df-f4198861-268b-4791-a10e-343840392da1\">\n",
              "    <div class=\"colab-df-container\">\n",
              "      <div>\n",
              "<style scoped>\n",
              "    .dataframe tbody tr th:only-of-type {\n",
              "        vertical-align: middle;\n",
              "    }\n",
              "\n",
              "    .dataframe tbody tr th {\n",
              "        vertical-align: top;\n",
              "    }\n",
              "\n",
              "    .dataframe thead th {\n",
              "        text-align: right;\n",
              "    }\n",
              "</style>\n",
              "<table border=\"1\" class=\"dataframe\">\n",
              "  <thead>\n",
              "    <tr style=\"text-align: right;\">\n",
              "      <th></th>\n",
              "      <th>level</th>\n",
              "      <th>page_num</th>\n",
              "      <th>block_num</th>\n",
              "      <th>par_num</th>\n",
              "      <th>line_num</th>\n",
              "      <th>word_num</th>\n",
              "      <th>left</th>\n",
              "      <th>top</th>\n",
              "      <th>width</th>\n",
              "      <th>height</th>\n",
              "      <th>conf</th>\n",
              "      <th>text</th>\n",
              "    </tr>\n",
              "  </thead>\n",
              "  <tbody>\n",
              "    <tr>\n",
              "      <th>0</th>\n",
              "      <td>1</td>\n",
              "      <td>1</td>\n",
              "      <td>0</td>\n",
              "      <td>0</td>\n",
              "      <td>0</td>\n",
              "      <td>0</td>\n",
              "      <td>0</td>\n",
              "      <td>0</td>\n",
              "      <td>338</td>\n",
              "      <td>450</td>\n",
              "      <td>-1</td>\n",
              "      <td></td>\n",
              "    </tr>\n",
              "    <tr>\n",
              "      <th>1</th>\n",
              "      <td>2</td>\n",
              "      <td>1</td>\n",
              "      <td>1</td>\n",
              "      <td>0</td>\n",
              "      <td>0</td>\n",
              "      <td>0</td>\n",
              "      <td>42</td>\n",
              "      <td>0</td>\n",
              "      <td>289</td>\n",
              "      <td>450</td>\n",
              "      <td>-1</td>\n",
              "      <td></td>\n",
              "    </tr>\n",
              "    <tr>\n",
              "      <th>2</th>\n",
              "      <td>3</td>\n",
              "      <td>1</td>\n",
              "      <td>1</td>\n",
              "      <td>1</td>\n",
              "      <td>0</td>\n",
              "      <td>0</td>\n",
              "      <td>42</td>\n",
              "      <td>0</td>\n",
              "      <td>289</td>\n",
              "      <td>450</td>\n",
              "      <td>-1</td>\n",
              "      <td></td>\n",
              "    </tr>\n",
              "    <tr>\n",
              "      <th>3</th>\n",
              "      <td>4</td>\n",
              "      <td>1</td>\n",
              "      <td>1</td>\n",
              "      <td>1</td>\n",
              "      <td>1</td>\n",
              "      <td>0</td>\n",
              "      <td>301</td>\n",
              "      <td>20</td>\n",
              "      <td>3</td>\n",
              "      <td>18</td>\n",
              "      <td>-1</td>\n",
              "      <td></td>\n",
              "    </tr>\n",
              "    <tr>\n",
              "      <th>4</th>\n",
              "      <td>5</td>\n",
              "      <td>1</td>\n",
              "      <td>1</td>\n",
              "      <td>1</td>\n",
              "      <td>1</td>\n",
              "      <td>1</td>\n",
              "      <td>301</td>\n",
              "      <td>20</td>\n",
              "      <td>3</td>\n",
              "      <td>18</td>\n",
              "      <td>0</td>\n",
              "      <td>p</td>\n",
              "    </tr>\n",
              "    <tr>\n",
              "      <th>...</th>\n",
              "      <td>...</td>\n",
              "      <td>...</td>\n",
              "      <td>...</td>\n",
              "      <td>...</td>\n",
              "      <td>...</td>\n",
              "      <td>...</td>\n",
              "      <td>...</td>\n",
              "      <td>...</td>\n",
              "      <td>...</td>\n",
              "      <td>...</td>\n",
              "      <td>...</td>\n",
              "      <td>...</td>\n",
              "    </tr>\n",
              "    <tr>\n",
              "      <th>59</th>\n",
              "      <td>5</td>\n",
              "      <td>1</td>\n",
              "      <td>1</td>\n",
              "      <td>1</td>\n",
              "      <td>13</td>\n",
              "      <td>3</td>\n",
              "      <td>255</td>\n",
              "      <td>364</td>\n",
              "      <td>3</td>\n",
              "      <td>11</td>\n",
              "      <td>42</td>\n",
              "      <td>i</td>\n",
              "    </tr>\n",
              "    <tr>\n",
              "      <th>60</th>\n",
              "      <td>5</td>\n",
              "      <td>1</td>\n",
              "      <td>1</td>\n",
              "      <td>1</td>\n",
              "      <td>13</td>\n",
              "      <td>4</td>\n",
              "      <td>305</td>\n",
              "      <td>363</td>\n",
              "      <td>25</td>\n",
              "      <td>23</td>\n",
              "      <td>17</td>\n",
              "      <td>1)</td>\n",
              "    </tr>\n",
              "    <tr>\n",
              "      <th>61</th>\n",
              "      <td>4</td>\n",
              "      <td>1</td>\n",
              "      <td>1</td>\n",
              "      <td>1</td>\n",
              "      <td>14</td>\n",
              "      <td>0</td>\n",
              "      <td>210</td>\n",
              "      <td>407</td>\n",
              "      <td>103</td>\n",
              "      <td>43</td>\n",
              "      <td>-1</td>\n",
              "      <td></td>\n",
              "    </tr>\n",
              "    <tr>\n",
              "      <th>62</th>\n",
              "      <td>5</td>\n",
              "      <td>1</td>\n",
              "      <td>1</td>\n",
              "      <td>1</td>\n",
              "      <td>14</td>\n",
              "      <td>1</td>\n",
              "      <td>210</td>\n",
              "      <td>408</td>\n",
              "      <td>46</td>\n",
              "      <td>28</td>\n",
              "      <td>27</td>\n",
              "      <td>on</td>\n",
              "    </tr>\n",
              "    <tr>\n",
              "      <th>63</th>\n",
              "      <td>5</td>\n",
              "      <td>1</td>\n",
              "      <td>1</td>\n",
              "      <td>1</td>\n",
              "      <td>14</td>\n",
              "      <td>2</td>\n",
              "      <td>262</td>\n",
              "      <td>406</td>\n",
              "      <td>51</td>\n",
              "      <td>44</td>\n",
              "      <td>37</td>\n",
              "      <td>a</td>\n",
              "    </tr>\n",
              "  </tbody>\n",
              "</table>\n",
              "<p>64 rows × 12 columns</p>\n",
              "</div>\n",
              "      <button class=\"colab-df-convert\" onclick=\"convertToInteractive('df-f4198861-268b-4791-a10e-343840392da1')\"\n",
              "              title=\"Convert this dataframe to an interactive table.\"\n",
              "              style=\"display:none;\">\n",
              "        \n",
              "  <svg xmlns=\"http://www.w3.org/2000/svg\" height=\"24px\"viewBox=\"0 0 24 24\"\n",
              "       width=\"24px\">\n",
              "    <path d=\"M0 0h24v24H0V0z\" fill=\"none\"/>\n",
              "    <path d=\"M18.56 5.44l.94 2.06.94-2.06 2.06-.94-2.06-.94-.94-2.06-.94 2.06-2.06.94zm-11 1L8.5 8.5l.94-2.06 2.06-.94-2.06-.94L8.5 2.5l-.94 2.06-2.06.94zm10 10l.94 2.06.94-2.06 2.06-.94-2.06-.94-.94-2.06-.94 2.06-2.06.94z\"/><path d=\"M17.41 7.96l-1.37-1.37c-.4-.4-.92-.59-1.43-.59-.52 0-1.04.2-1.43.59L10.3 9.45l-7.72 7.72c-.78.78-.78 2.05 0 2.83L4 21.41c.39.39.9.59 1.41.59.51 0 1.02-.2 1.41-.59l7.78-7.78 2.81-2.81c.8-.78.8-2.07 0-2.86zM5.41 20L4 18.59l7.72-7.72 1.47 1.35L5.41 20z\"/>\n",
              "  </svg>\n",
              "      </button>\n",
              "      \n",
              "  <style>\n",
              "    .colab-df-container {\n",
              "      display:flex;\n",
              "      flex-wrap:wrap;\n",
              "      gap: 12px;\n",
              "    }\n",
              "\n",
              "    .colab-df-convert {\n",
              "      background-color: #E8F0FE;\n",
              "      border: none;\n",
              "      border-radius: 50%;\n",
              "      cursor: pointer;\n",
              "      display: none;\n",
              "      fill: #1967D2;\n",
              "      height: 32px;\n",
              "      padding: 0 0 0 0;\n",
              "      width: 32px;\n",
              "    }\n",
              "\n",
              "    .colab-df-convert:hover {\n",
              "      background-color: #E2EBFA;\n",
              "      box-shadow: 0px 1px 2px rgba(60, 64, 67, 0.3), 0px 1px 3px 1px rgba(60, 64, 67, 0.15);\n",
              "      fill: #174EA6;\n",
              "    }\n",
              "\n",
              "    [theme=dark] .colab-df-convert {\n",
              "      background-color: #3B4455;\n",
              "      fill: #D2E3FC;\n",
              "    }\n",
              "\n",
              "    [theme=dark] .colab-df-convert:hover {\n",
              "      background-color: #434B5C;\n",
              "      box-shadow: 0px 1px 3px 1px rgba(0, 0, 0, 0.15);\n",
              "      filter: drop-shadow(0px 1px 2px rgba(0, 0, 0, 0.3));\n",
              "      fill: #FFFFFF;\n",
              "    }\n",
              "  </style>\n",
              "\n",
              "      <script>\n",
              "        const buttonEl =\n",
              "          document.querySelector('#df-f4198861-268b-4791-a10e-343840392da1 button.colab-df-convert');\n",
              "        buttonEl.style.display =\n",
              "          google.colab.kernel.accessAllowed ? 'block' : 'none';\n",
              "\n",
              "        async function convertToInteractive(key) {\n",
              "          const element = document.querySelector('#df-f4198861-268b-4791-a10e-343840392da1');\n",
              "          const dataTable =\n",
              "            await google.colab.kernel.invokeFunction('convertToInteractive',\n",
              "                                                     [key], {});\n",
              "          if (!dataTable) return;\n",
              "\n",
              "          const docLinkHtml = 'Like what you see? Visit the ' +\n",
              "            '<a target=\"_blank\" href=https://colab.research.google.com/notebooks/data_table.ipynb>data table notebook</a>'\n",
              "            + ' to learn more about interactive tables.';\n",
              "          element.innerHTML = '';\n",
              "          dataTable['output_type'] = 'display_data';\n",
              "          await google.colab.output.renderOutput(dataTable, element);\n",
              "          const docLink = document.createElement('div');\n",
              "          docLink.innerHTML = docLinkHtml;\n",
              "          element.appendChild(docLink);\n",
              "        }\n",
              "      </script>\n",
              "    </div>\n",
              "  </div>\n",
              "  "
            ]
          },
          "metadata": {},
          "execution_count": 27
        }
      ]
    },
    {
      "cell_type": "code",
      "source": [
        "custom_config = r'-l eng --oem 1 --psm 6 '\n",
        "img = cv2.imread(\"bill.jpg\")\n",
        "#d = pytesseract.image_to_pdf_or_hocr(thresh,lang=\"eng\", extension='hocr', config=custom_config)\n",
        "d = pytesseract.image_to_pdf_or_hocr(img,lang=\"eng\", extension='hocr', config=custom_config)\n",
        "print(d)"
      ],
      "metadata": {
        "colab": {
          "base_uri": "https://localhost:8080/"
        },
        "id": "MB1nLw9JEi8F",
        "outputId": "6fd6a29a-904b-4972-b573-da0433d2dfa5"
      },
      "execution_count": 28,
      "outputs": [
        {
          "output_type": "stream",
          "name": "stdout",
          "text": [
            "b'<?xml version=\"1.0\" encoding=\"UTF-8\"?>\\n<!DOCTYPE html PUBLIC \"-//W3C//DTD XHTML 1.0 Transitional//EN\"\\n    \"http://www.w3.org/TR/xhtml1/DTD/xhtml1-transitional.dtd\">\\n<html xmlns=\"http://www.w3.org/1999/xhtml\" xml:lang=\"en\" lang=\"en\">\\n <head>\\n  <title></title>\\n<meta http-equiv=\"Content-Type\" content=\"text/html;charset=utf-8\" />\\n  <meta name=\\'ocr-system\\' content=\\'tesseract 4.0.0-beta.1\\' />\\n  <meta name=\\'ocr-capabilities\\' content=\\'ocr_page ocr_carea ocr_par ocr_line ocrx_word\\'/>\\n</head>\\n<body>\\n  <div class=\\'ocr_page\\' id=\\'page_1\\' title=\\'image \"/tmp/tess_iefqcsyi_input.PNG\"; bbox 0 0 338 450; ppageno 0\\'>\\n   <div class=\\'ocr_carea\\' id=\\'block_1_1\\' title=\"bbox 54 180 101 192\">\\n    <p class=\\'ocr_par\\' id=\\'par_1_1\\' lang=\\'eng\\' title=\"bbox 54 180 101 192\">\\n     <span class=\\'ocr_line\\' id=\\'line_1_1\\' title=\"bbox 54 180 101 192; baseline 0 0; x_size 16; x_descenders 4; x_ascenders 4\"><span class=\\'ocrx_word\\' id=\\'word_1_1\\' title=\\'bbox 54 180 101 192; x_wconf 50\\'>0.000180</span> \\n     </span>\\n    </p>\\n   </div>\\n   <div class=\\'ocr_carea\\' id=\\'block_1_2\\' title=\"bbox 50 212 257 226\">\\n    <p class=\\'ocr_par\\' id=\\'par_1_2\\' lang=\\'eng\\' title=\"bbox 50 212 257 226\">\\n     <span class=\\'ocr_line\\' id=\\'line_1_2\\' title=\"bbox 50 212 257 226; baseline -0.014 0; x_size 16; x_descenders 4; x_ascenders 4\"><span class=\\'ocrx_word\\' id=\\'word_1_2\\' title=\\'bbox 50 214 110 226; x_wconf 73\\'>DESCRIPTION</span> <span class=\\'ocrx_word\\' id=\\'word_1_3\\' title=\\'bbox 133 214 142 226; x_wconf 74\\'>TX</span> <span class=\\'ocrx_word\\' id=\\'word_1_4\\' title=\\'bbox 157 213 171 225; x_wconf 24\\'>TY</span> <span class=\\'ocrx_word\\' id=\\'word_1_5\\' title=\\'bbox 191 213 209 224; x_wconf 47\\'>RATE</span> <span class=\\'ocrx_word\\' id=\\'word_1_6\\' title=\\'bbox 226 212 257 224; x_wconf 52\\'>AMOUNT</span> \\n     </span>\\n    </p>\\n   </div>\\n   <div class=\\'ocr_carea\\' id=\\'block_1_3\\' title=\"bbox 45 249 238 283\">\\n    <p class=\\'ocr_par\\' id=\\'par_1_3\\' lang=\\'eng\\' title=\"bbox 45 249 238 283\">\\n     <span class=\\'ocr_line\\' id=\\'line_1_3\\' title=\"bbox 48 249 238 264; baseline -0.026 -1; x_size 18; x_descenders 4; x_ascenders 3\"><span class=\\'ocrx_word\\' id=\\'word_1_7\\' title=\\'bbox 48 250 74 264; x_wconf 80\\'>TUPPA</span> <span class=\\'ocrx_word\\' id=\\'word_1_8\\' title=\\'bbox 80 250 102 263; x_wconf 84\\'>DOSA</span> <span class=\\'ocrx_word\\' id=\\'word_1_9\\' title=\\'bbox 173 249 211 262; x_wconf 62\\'>1.0</span> <span class=\\'ocrx_word\\' id=\\'word_1_10\\' title=\\'bbox 234 253 238 258; x_wconf 73\\'>4</span> \\n     </span>\\n     <span class=\\'ocr_line\\' id=\\'line_1_4\\' title=\"bbox 45 269 78 283; baseline -0.03 0; x_size 18.529411; x_descenders 4.5294118; x_ascenders 4.5294118\"><span class=\\'ocrx_word\\' id=\\'word_1_11\\' title=\\'bbox 45 269 78 283; x_wconf 64\\'>S-HADA</span> \\n     </span>\\n    </p>\\n   </div>\\n   <div class=\\'ocr_carea\\' id=\\'block_1_4\\' title=\"bbox 173 250 261 281\">\\n    <p class=\\'ocr_par\\' id=\\'par_1_4\\' lang=\\'eng\\' title=\"bbox 173 250 261 281\">\\n     <span class=\\'ocr_line\\' id=\\'line_1_5\\' title=\"bbox 251 250 261 261; baseline 0 0; x_size 21.5; x_descenders 5.5; x_ascenders 5.5\"><span class=\\'ocrx_word\\' id=\\'word_1_12\\' title=\\'bbox 251 250 261 261; x_wconf 43\\'>0</span> \\n     </span>\\n     <span class=\\'ocr_line\\' id=\\'line_1_6\\' title=\"bbox 173 268 244 281; baseline -0.028 0; x_size 18.238094; x_descenders 5.2380953; x_ascenders 3\"><span class=\\'ocrx_word\\' id=\\'word_1_13\\' title=\\'bbox 173 268 212 281; x_wconf 84\\'>150</span> <span class=\\'ocrx_word\\' id=\\'word_1_14\\' title=\\'bbox 241 268 244 269; x_wconf 24\\'>2%</span> \\n     </span>\\n    </p>\\n   </div>\\n   <div class=\\'ocr_carea\\' id=\\'block_1_5\\' title=\"bbox 42 328 261 344\">\\n    <p class=\\'ocr_par\\' id=\\'par_1_5\\' lang=\\'eng\\' title=\"bbox 42 328 261 344\">\\n     <span class=\\'ocr_line\\' id=\\'line_1_7\\' title=\"bbox 42 328 261 344; baseline -0.018 0; x_size 20; x_descenders 5; x_ascenders 5\"><span class=\\'ocrx_word\\' id=\\'word_1_15\\' title=\\'bbox 42 330 86 344; x_wconf 96\\'>CASH</span> <span class=\\'ocrx_word\\' id=\\'word_1_16\\' title=\\'bbox 209 328 261 342; x_wconf 95\\'>75.00</span> \\n     </span>\\n    </p>\\n   </div>\\n   <div class=\\'ocr_carea\\' id=\\'block_1_6\\' title=\"bbox 14 0 282 450\">\\n    <p class=\\'ocr_par\\' id=\\'par_1_6\\' lang=\\'eng\\' title=\"bbox 14 0 282 450\">\\n     <span class=\\'ocr_line\\' id=\\'line_1_8\\' title=\"bbox 14 0 282 450; baseline 0 0; x_size 601.33331; x_descenders 150.33333; x_ascenders 150.33333\"><span class=\\'ocrx_word\\' id=\\'word_1_17\\' title=\\'bbox 14 0 282 450; x_wconf 95\\'> </span> \\n     </span>\\n    </p>\\n   </div>\\n  </div>\\n </body>\\n</html>\\n'\n"
          ]
        }
      ]
    },
    {
      "cell_type": "code",
      "source": [
        "with open('test.xml', 'w+b') as f:\n",
        "    f.write(d)"
      ],
      "metadata": {
        "id": "H02_PLDuEnhC"
      },
      "execution_count": 29,
      "outputs": []
    },
    {
      "cell_type": "code",
      "source": [
        "import xml.etree.cElementTree as ElementTree\n",
        "\n",
        "tree = ElementTree.Element('tmx', {'version': '1.4a'})\n",
        "ElementTree.SubElement(tree, 'header', {'adminlang': 'EN'})\n",
        "ElementTree.SubElement(tree, 'body')\n",
        "\n",
        "with open('myfile.tmx', 'wb') as f:\n",
        "    f.write('<?xml version=\"1.0\" encoding=\"UTF-8\" ?><!DOCTYPE tmx SYSTEM \"tmx14a.dtd\">'.encode('utf8'))\n",
        "    ElementTree.ElementTree(tree).write(f, 'utf-8')"
      ],
      "metadata": {
        "id": "nVqs-yfBFWme"
      },
      "execution_count": 35,
      "outputs": []
    },
    {
      "cell_type": "code",
      "source": [],
      "metadata": {
        "id": "gbQnvJjHFaia"
      },
      "execution_count": null,
      "outputs": []
    }
  ]
}