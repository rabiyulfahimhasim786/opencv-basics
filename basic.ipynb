{
 "cells": [
  {
   "cell_type": "code",
   "execution_count": 16,
   "id": "be9fdb81",
   "metadata": {},
   "outputs": [
    {
     "name": "stdout",
     "output_type": "stream",
     "text": [
      "Requirement already satisfied: pillow in c:\\users\\admin\\anaconda3\\lib\\site-packages (8.4.0)\n",
      "Note: you may need to restart the kernel to use updated packages.\n"
     ]
    }
   ],
   "source": [
    "pip install pillow"
   ]
  },
  {
   "cell_type": "code",
   "execution_count": 20,
   "id": "ff0603b9",
   "metadata": {},
   "outputs": [
    {
     "name": "stdout",
     "output_type": "stream",
     "text": [
      "Note: you may need to restart the kernel to use updated packages.\n"
     ]
    },
    {
     "name": "stderr",
     "output_type": "stream",
     "text": [
      "ERROR: Could not find a version that satisfies the requirement PIL (from versions: none)\n",
      "ERROR: No matching distribution found for PIL\n"
     ]
    }
   ],
   "source": [
    "pip install PIL"
   ]
  },
  {
   "cell_type": "code",
   "execution_count": 41,
   "id": "eeacc1d2",
   "metadata": {},
   "outputs": [
    {
     "name": "stdout",
     "output_type": "stream",
     "text": [
      "<module 'PIL' from 'C:\\\\Users\\\\Admin\\\\anaconda3\\\\lib\\\\site-packages\\\\PIL\\\\__init__.py'>\n"
     ]
    },
    {
     "data": {
      "text/plain": [
       "'8.4.0'"
      ]
     },
     "execution_count": 41,
     "metadata": {},
     "output_type": "execute_result"
    }
   ],
   "source": [
    "import PIL\n",
    "print(PIL)\n",
    "PIL.__version__"
   ]
  },
  {
   "cell_type": "code",
   "execution_count": 35,
   "id": "a4dfd877",
   "metadata": {},
   "outputs": [
    {
     "name": "stdout",
     "output_type": "stream",
     "text": [
      "Collecting package metadata (current_repodata.json): ...working... done\n",
      "Solving environment: ...working... done\n",
      "\n",
      "# All requested packages already installed.\n",
      "\n",
      "\n",
      "Note: you may need to restart the kernel to use updated packages.\n"
     ]
    }
   ],
   "source": [
    "conda install -c anaconda Pillow"
   ]
  },
  {
   "cell_type": "code",
   "execution_count": null,
   "id": "0a19c419",
   "metadata": {},
   "outputs": [],
   "source": [
    "PIL.__version__"
   ]
  },
  {
   "cell_type": "code",
   "execution_count": null,
   "id": "391e84b5",
   "metadata": {},
   "outputs": [],
   "source": [
    "from PIL import Image"
   ]
  },
  {
   "cell_type": "code",
   "execution_count": null,
   "id": "8f316fbc",
   "metadata": {},
   "outputs": [],
   "source": [
    "Im = Image.open('53220.jpg')"
   ]
  },
  {
   "cell_type": "code",
   "execution_count": null,
   "id": "ef160f9a",
   "metadata": {},
   "outputs": [],
   "source": [
    "type(Im)"
   ]
  },
  {
   "cell_type": "code",
   "execution_count": null,
   "id": "9340ffed",
   "metadata": {},
   "outputs": [],
   "source": [
    "Im"
   ]
  },
  {
   "cell_type": "code",
   "execution_count": null,
   "id": "8b488cb8",
   "metadata": {},
   "outputs": [],
   "source": [
    "Im.show()"
   ]
  },
  {
   "cell_type": "code",
   "execution_count": null,
   "id": "3f9f1b44",
   "metadata": {},
   "outputs": [],
   "source": [
    "Im.size"
   ]
  },
  {
   "cell_type": "code",
   "execution_count": null,
   "id": "658380fa",
   "metadata": {},
   "outputs": [],
   "source": []
  }
 ],
 "metadata": {
  "kernelspec": {
   "display_name": "Python 3 (ipykernel)",
   "language": "python",
   "name": "python3"
  },
  "language_info": {
   "codemirror_mode": {
    "name": "ipython",
    "version": 3
   },
   "file_extension": ".py",
   "mimetype": "text/x-python",
   "name": "python",
   "nbconvert_exporter": "python",
   "pygments_lexer": "ipython3",
   "version": "3.9.7"
  }
 },
 "nbformat": 4,
 "nbformat_minor": 5
}
