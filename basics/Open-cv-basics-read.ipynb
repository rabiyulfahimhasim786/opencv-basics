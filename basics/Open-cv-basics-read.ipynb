{
 "cells": [
  {
   "cell_type": "code",
   "execution_count": 11,
   "id": "21f8693e",
   "metadata": {},
   "outputs": [],
   "source": [
    "#pylint:disable=no-member\n",
    "\n",
    "import cv2 as cv\n",
    "\n",
    "img = cv.imread('C:/Users/Admin/Downloads/imge/cat.jpg')\n",
    "cv.imshow('Cats', img)\n",
    "\n",
    "cv.waitKey(0)\n",
    "cv.destroyAllWindows()"
   ]
  },
  {
   "cell_type": "code",
   "execution_count": 12,
   "id": "22fa2a04",
   "metadata": {},
   "outputs": [],
   "source": [
    "# Reading Videos\n",
    "capture = cv.VideoCapture('C:/Users/Admin/Downloads/imge/dog.mp4')\n",
    "\n",
    "while True:\n",
    "    isTrue, frame = capture.read()\n",
    "    \n",
    "    # if cv.waitKey(20) & 0xFF==ord('d'):\n",
    "    # This is the preferred way - if `isTrue` is false (the frame could \n",
    "    # not be read, or we're at the end of the video), we immediately\n",
    "    # break from the loop. \n",
    "    if isTrue:    \n",
    "        cv.imshow('Video', frame)\n",
    "        if cv.waitKey(20) & 0xFF==ord('d'):\n",
    "            break            \n",
    "    else:\n",
    "        break\n",
    "\n",
    "capture.release()\n",
    "cv.destroyAllWindows()"
   ]
  },
  {
   "cell_type": "code",
   "execution_count": null,
   "id": "d29136fc",
   "metadata": {},
   "outputs": [],
   "source": []
  }
 ],
 "metadata": {
  "kernelspec": {
   "display_name": "Python 3 (ipykernel)",
   "language": "python",
   "name": "python3"
  },
  "language_info": {
   "codemirror_mode": {
    "name": "ipython",
    "version": 3
   },
   "file_extension": ".py",
   "mimetype": "text/x-python",
   "name": "python",
   "nbconvert_exporter": "python",
   "pygments_lexer": "ipython3",
   "version": "3.9.7"
  }
 },
 "nbformat": 4,
 "nbformat_minor": 5
}
