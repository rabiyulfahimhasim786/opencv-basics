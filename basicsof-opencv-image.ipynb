{
 "cells": [
  {
   "cell_type": "code",
   "execution_count": 2,
   "id": "d6bf1c09",
   "metadata": {},
   "outputs": [
    {
     "name": "stdout",
     "output_type": "stream",
     "text": [
      "Requirement already satisfied: opencv-python in c:\\users\\admin\\anaconda3\\lib\\site-packages (4.5.5.62)\n",
      "Requirement already satisfied: numpy>=1.19.3 in c:\\users\\admin\\anaconda3\\lib\\site-packages (from opencv-python) (1.20.3)\n",
      "Note: you may need to restart the kernel to use updated packages.\n"
     ]
    }
   ],
   "source": [
    "pip install opencv-python"
   ]
  },
  {
   "cell_type": "code",
   "execution_count": 3,
   "id": "f4385e57",
   "metadata": {},
   "outputs": [
    {
     "name": "stdout",
     "output_type": "stream",
     "text": [
      "Requirement already satisfied: numpy in c:\\users\\admin\\anaconda3\\lib\\site-packages (1.20.3)\n",
      "Note: you may need to restart the kernel to use updated packages.\n"
     ]
    }
   ],
   "source": [
    "pip install numpy"
   ]
  },
  {
   "cell_type": "code",
   "execution_count": 4,
   "id": "36886970",
   "metadata": {},
   "outputs": [
    {
     "name": "stdout",
     "output_type": "stream",
     "text": [
      "Requirement already satisfied: matplotlib in c:\\users\\admin\\anaconda3\\lib\\site-packages (3.4.3)\n",
      "Requirement already satisfied: pyparsing>=2.2.1 in c:\\users\\admin\\anaconda3\\lib\\site-packages (from matplotlib) (3.0.4)\n",
      "Requirement already satisfied: cycler>=0.10 in c:\\users\\admin\\anaconda3\\lib\\site-packages (from matplotlib) (0.10.0)\n",
      "Requirement already satisfied: python-dateutil>=2.7 in c:\\users\\admin\\anaconda3\\lib\\site-packages (from matplotlib) (2.8.2)\n",
      "Requirement already satisfied: numpy>=1.16 in c:\\users\\admin\\anaconda3\\lib\\site-packages (from matplotlib) (1.20.3)\n",
      "Requirement already satisfied: kiwisolver>=1.0.1 in c:\\users\\admin\\anaconda3\\lib\\site-packages (from matplotlib) (1.3.1)\n",
      "Requirement already satisfied: pillow>=6.2.0 in c:\\users\\admin\\anaconda3\\lib\\site-packages (from matplotlib) (8.4.0)\n",
      "Requirement already satisfied: six in c:\\users\\admin\\anaconda3\\lib\\site-packages (from cycler>=0.10->matplotlib) (1.16.0)\n",
      "Note: you may need to restart the kernel to use updated packages.\n"
     ]
    }
   ],
   "source": [
    "pip install matplotlib"
   ]
  },
  {
   "cell_type": "code",
   "execution_count": 7,
   "id": "ad6cc016",
   "metadata": {},
   "outputs": [],
   "source": [
    "# Python code to read image\n",
    "import cv2\n",
    "\n",
    "# To read image from disk, we use\n",
    "# cv2.imread function, in below method,\n",
    "img = cv2.imread(\"geeks14.png\", cv2.IMREAD_COLOR)\n",
    "\n",
    "# Creating GUI window to display an image on screen\n",
    "# first Parameter is windows title (should be in string format)\n",
    "# Second Parameter is image array\n",
    "cv2.imshow(\"Cute Kitens\", img)\n",
    "\n",
    "# To hold the window on screen, we use cv2.waitKey method\n",
    "# Once it detected the close input, it will release the control\n",
    "# To the next line\n",
    "# First Parameter is for holding screen for specified milliseconds\n",
    "# It should be positive integer. If 0 pass an parameter, then it will\n",
    "# hold the screen until user close it.\n",
    "cv2.waitKey(0)\n",
    "\n",
    "# It is for removing/deleting created GUI window from screen\n",
    "# and memory\n",
    "cv2.destroyAllWindows()\n"
   ]
  },
  {
   "cell_type": "code",
   "execution_count": 6,
   "id": "ab5fb63c",
   "metadata": {},
   "outputs": [],
   "source": [
    "# Python program to explain cv2.imread() method\n",
    " \n",
    "# importing cv2\n",
    "import cv2\n",
    " \n",
    "# path\n",
    "path = r'geeks14.png'\n",
    " \n",
    "# Using cv2.imread() method\n",
    "# Using 0 to read image in grayscale mode\n",
    "img = cv2.imread(path, 0)\n",
    " \n",
    "# Displaying the image\n",
    "cv2.imshow('image', img)"
   ]
  },
  {
   "cell_type": "code",
   "execution_count": 8,
   "id": "c10bf5cf",
   "metadata": {},
   "outputs": [],
   "source": [
    "# Python program to explain cv2.imshow() method\n",
    "\n",
    "# importing cv2\n",
    "import cv2\n",
    "\n",
    "# path\n",
    "path = r'C:\\Users\\Admin\\Downloads\\imge\\geeks14.png'\n",
    "\n",
    "# Reading an image in default mode\n",
    "image = cv2.imread(path)\n",
    "\n",
    "# Window name in which image is displayed\n",
    "window_name = 'image'\n",
    "\n",
    "# Using cv2.imshow() method\n",
    "# Displaying the image\n",
    "cv2.imshow(window_name, image)\n",
    "\n",
    "#waits for user to press any key\n",
    "#(this is necessary to avoid Python kernel form crashing)\n",
    "cv2.waitKey(0)\n",
    "\n",
    "#closing all open windows\n",
    "cv2.destroyAllWindows()\n"
   ]
  },
  {
   "cell_type": "code",
   "execution_count": 9,
   "id": "4acc3305",
   "metadata": {},
   "outputs": [],
   "source": [
    "# Python program to explain cv2.imshow() method\n",
    "\n",
    "# importing cv2\n",
    "import cv2\n",
    "\n",
    "# path\n",
    "path = r'C:\\Users\\Admin\\Downloads\\imge\\geeks14.png'\n",
    "\n",
    "# Reading an image in grayscale mode\n",
    "image = cv2.imread(path, 0)\n",
    "\n",
    "# Window name in which image is displayed\n",
    "window_name = 'image'\n",
    "\n",
    "# Using cv2.imshow() method\n",
    "# Displaying the image\n",
    "cv2.imshow(window_name, image)\n",
    "\n",
    "# waits for user to press any key\n",
    "# (this is necessary to avoid Python kernel form crashing)\n",
    "cv2.waitKey(0)\n",
    "\n",
    "# closing all open windows\n",
    "cv2.destroyAllWindows()\n"
   ]
  },
  {
   "cell_type": "code",
   "execution_count": 11,
   "id": "87dec45b",
   "metadata": {},
   "outputs": [
    {
     "name": "stdout",
     "output_type": "stream",
     "text": [
      "Before saving image:\n",
      "['.ipynb_checkpoints', '53220.jpg', 'basic.ipynb', 'basics-of-Open-CV.ipynb', 'basicsof-opencv-image.ipynb', 'geeks.png', 'geeks14.png', 'images-scrapping.ipynb', 'mac.jpg', 'vckkk.jpg']\n",
      "After saving image:\n",
      "['.ipynb_checkpoints', '53220.jpg', 'basic.ipynb', 'basics-of-Open-CV.ipynb', 'basicsof-opencv-image.ipynb', 'geeks.png', 'geeks14.png', 'images-scrapping.ipynb', 'mac.jpg', 'savedImage.jpg', 'vckkk.jpg']\n",
      "Successfully saved\n"
     ]
    }
   ],
   "source": [
    "# Python program to explain cv2.imwrite() method\n",
    "\n",
    "# importing cv2\n",
    "import cv2\n",
    "\n",
    "# importing os module\n",
    "import os\n",
    "\n",
    "# Image path\n",
    "image_path = r'C:\\Users\\Admin\\Downloads\\imge\\geeks.png'\n",
    "\n",
    "# Image directory\n",
    "directory = r'C:\\Users\\Admin\\Downloads\\imge'\n",
    "\n",
    "# Using cv2.imread() method\n",
    "# to read the image\n",
    "img = cv2.imread(image_path)\n",
    "\n",
    "# Change the current directory\n",
    "# to specified directory\n",
    "os.chdir(directory)\n",
    "\n",
    "# List files and directories\n",
    "# in 'C:/Users/Rajnish/Desktop/GeeksforGeeks'\n",
    "print(\"Before saving image:\")\n",
    "print(os.listdir(directory))\n",
    "\n",
    "# Filename\n",
    "filename = 'savedImage.jpg'\n",
    "\n",
    "# Using cv2.imwrite() method\n",
    "# Saving the image\n",
    "cv2.imwrite(filename, img)\n",
    "\n",
    "# List files and directories\n",
    "# in 'C:/Users / Rajnish / Desktop / GeeksforGeeks'\n",
    "print(\"After saving image:\")\n",
    "print(os.listdir(directory))\n",
    "\n",
    "print('Successfully saved')\n"
   ]
  },
  {
   "cell_type": "code",
   "execution_count": null,
   "id": "240dd495",
   "metadata": {},
   "outputs": [],
   "source": []
  }
 ],
 "metadata": {
  "kernelspec": {
   "display_name": "Python 3 (ipykernel)",
   "language": "python",
   "name": "python3"
  },
  "language_info": {
   "codemirror_mode": {
    "name": "ipython",
    "version": 3
   },
   "file_extension": ".py",
   "mimetype": "text/x-python",
   "name": "python",
   "nbconvert_exporter": "python",
   "pygments_lexer": "ipython3",
   "version": "3.9.7"
  }
 },
 "nbformat": 4,
 "nbformat_minor": 5
}
