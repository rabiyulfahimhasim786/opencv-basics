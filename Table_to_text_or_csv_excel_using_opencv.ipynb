{
  "nbformat": 4,
  "nbformat_minor": 0,
  "metadata": {
    "colab": {
      "name": "Table_to_text_or_csv_excel_using_opencv.ipynb",
      "provenance": [],
      "authorship_tag": "ABX9TyNjHU65mBgH3gNrtMB44lvH",
      "include_colab_link": true
    },
    "kernelspec": {
      "name": "python3",
      "display_name": "Python 3"
    },
    "language_info": {
      "name": "python"
    }
  },
  "cells": [
    {
      "cell_type": "markdown",
      "metadata": {
        "id": "view-in-github",
        "colab_type": "text"
      },
      "source": [
        "<a href=\"https://colab.research.google.com/github/rabiyulfahimhasim786/opencv-basics/blob/main/Table_to_text_or_csv_excel_using_opencv.ipynb\" target=\"_parent\"><img src=\"https://colab.research.google.com/assets/colab-badge.svg\" alt=\"Open In Colab\"/></a>"
      ]
    },
    {
      "cell_type": "code",
      "execution_count": null,
      "metadata": {
        "colab": {
          "base_uri": "https://localhost:8080/"
        },
        "id": "vlOQiAGsk80Q",
        "outputId": "050cf97b-cdd0-46b2-a09f-0676d32c5c80"
      },
      "outputs": [
        {
          "output_type": "stream",
          "name": "stdout",
          "text": [
            "Looking in indexes: https://pypi.org/simple, https://us-python.pkg.dev/colab-wheels/public/simple/\n",
            "Requirement already satisfied: opencv-python in /usr/local/lib/python3.7/dist-packages (4.1.2.30)\n",
            "Requirement already satisfied: numpy>=1.14.5 in /usr/local/lib/python3.7/dist-packages (from opencv-python) (1.21.6)\n"
          ]
        }
      ],
      "source": [
        "!pip install opencv-python"
      ]
    },
    {
      "cell_type": "code",
      "source": [
        "!pip install matplotlib"
      ],
      "metadata": {
        "colab": {
          "base_uri": "https://localhost:8080/"
        },
        "id": "f7brxOkSlK3c",
        "outputId": "a4eaaf5e-f088-4974-dabe-2eda7d3dd5f8"
      },
      "execution_count": null,
      "outputs": [
        {
          "output_type": "stream",
          "name": "stdout",
          "text": [
            "Looking in indexes: https://pypi.org/simple, https://us-python.pkg.dev/colab-wheels/public/simple/\n",
            "Requirement already satisfied: matplotlib in /usr/local/lib/python3.7/dist-packages (3.2.2)\n",
            "Requirement already satisfied: kiwisolver>=1.0.1 in /usr/local/lib/python3.7/dist-packages (from matplotlib) (1.4.2)\n",
            "Requirement already satisfied: pyparsing!=2.0.4,!=2.1.2,!=2.1.6,>=2.0.1 in /usr/local/lib/python3.7/dist-packages (from matplotlib) (3.0.9)\n",
            "Requirement already satisfied: python-dateutil>=2.1 in /usr/local/lib/python3.7/dist-packages (from matplotlib) (2.8.2)\n",
            "Requirement already satisfied: numpy>=1.11 in /usr/local/lib/python3.7/dist-packages (from matplotlib) (1.21.6)\n",
            "Requirement already satisfied: cycler>=0.10 in /usr/local/lib/python3.7/dist-packages (from matplotlib) (0.11.0)\n",
            "Requirement already satisfied: typing-extensions in /usr/local/lib/python3.7/dist-packages (from kiwisolver>=1.0.1->matplotlib) (4.2.0)\n",
            "Requirement already satisfied: six>=1.5 in /usr/local/lib/python3.7/dist-packages (from python-dateutil>=2.1->matplotlib) (1.15.0)\n"
          ]
        }
      ]
    },
    {
      "cell_type": "code",
      "source": [
        "!pip install pytesseract"
      ],
      "metadata": {
        "colab": {
          "base_uri": "https://localhost:8080/",
          "height": 411
        },
        "id": "mXM18UR1lPRo",
        "outputId": "f8fe100e-2c13-4a50-cd3f-9a91eea658ac"
      },
      "execution_count": null,
      "outputs": [
        {
          "output_type": "stream",
          "name": "stdout",
          "text": [
            "Looking in indexes: https://pypi.org/simple, https://us-python.pkg.dev/colab-wheels/public/simple/\n",
            "Collecting pytesseract\n",
            "  Downloading pytesseract-0.3.9-py2.py3-none-any.whl (14 kB)\n",
            "Requirement already satisfied: packaging>=21.3 in /usr/local/lib/python3.7/dist-packages (from pytesseract) (21.3)\n",
            "Collecting Pillow>=8.0.0\n",
            "  Downloading Pillow-9.1.1-cp37-cp37m-manylinux_2_17_x86_64.manylinux2014_x86_64.whl (3.1 MB)\n",
            "\u001b[K     |████████████████████████████████| 3.1 MB 31.5 MB/s \n",
            "\u001b[?25hRequirement already satisfied: pyparsing!=3.0.5,>=2.0.2 in /usr/local/lib/python3.7/dist-packages (from packaging>=21.3->pytesseract) (3.0.9)\n",
            "Installing collected packages: Pillow, pytesseract\n",
            "  Attempting uninstall: Pillow\n",
            "    Found existing installation: Pillow 7.1.2\n",
            "    Uninstalling Pillow-7.1.2:\n",
            "      Successfully uninstalled Pillow-7.1.2\n",
            "\u001b[31mERROR: pip's dependency resolver does not currently take into account all the packages that are installed. This behaviour is the source of the following dependency conflicts.\n",
            "albumentations 0.1.12 requires imgaug<0.2.7,>=0.2.5, but you have imgaug 0.2.9 which is incompatible.\u001b[0m\n",
            "Successfully installed Pillow-9.1.1 pytesseract-0.3.9\n"
          ]
        },
        {
          "output_type": "display_data",
          "data": {
            "application/vnd.colab-display-data+json": {
              "pip_warning": {
                "packages": [
                  "PIL"
                ]
              }
            }
          },
          "metadata": {}
        }
      ]
    },
    {
      "cell_type": "code",
      "source": [
        "!sudo apt install tesseract-ocr"
      ],
      "metadata": {
        "colab": {
          "base_uri": "https://localhost:8080/"
        },
        "id": "mdAkf4tmlXu_",
        "outputId": "d40e94d8-b547-4d81-cd19-5ad5e37bed52"
      },
      "execution_count": null,
      "outputs": [
        {
          "output_type": "stream",
          "name": "stdout",
          "text": [
            "Reading package lists... Done\n",
            "Building dependency tree       \n",
            "Reading state information... Done\n",
            "The following package was automatically installed and is no longer required:\n",
            "  libnvidia-common-460\n",
            "Use 'sudo apt autoremove' to remove it.\n",
            "The following additional packages will be installed:\n",
            "  tesseract-ocr-eng tesseract-ocr-osd\n",
            "The following NEW packages will be installed:\n",
            "  tesseract-ocr tesseract-ocr-eng tesseract-ocr-osd\n",
            "0 upgraded, 3 newly installed, 0 to remove and 42 not upgraded.\n",
            "Need to get 4,795 kB of archives.\n",
            "After this operation, 15.8 MB of additional disk space will be used.\n",
            "Get:1 http://archive.ubuntu.com/ubuntu bionic/universe amd64 tesseract-ocr-eng all 4.00~git24-0e00fe6-1.2 [1,588 kB]\n",
            "Get:2 http://archive.ubuntu.com/ubuntu bionic/universe amd64 tesseract-ocr-osd all 4.00~git24-0e00fe6-1.2 [2,989 kB]\n",
            "Get:3 http://archive.ubuntu.com/ubuntu bionic/universe amd64 tesseract-ocr amd64 4.00~git2288-10f4998a-2 [218 kB]\n",
            "Fetched 4,795 kB in 0s (25.7 MB/s)\n",
            "debconf: unable to initialize frontend: Dialog\n",
            "debconf: (No usable dialog-like program is installed, so the dialog based frontend cannot be used. at /usr/share/perl5/Debconf/FrontEnd/Dialog.pm line 76, <> line 3.)\n",
            "debconf: falling back to frontend: Readline\n",
            "debconf: unable to initialize frontend: Readline\n",
            "debconf: (This frontend requires a controlling tty.)\n",
            "debconf: falling back to frontend: Teletype\n",
            "dpkg-preconfigure: unable to re-open stdin: \n",
            "Selecting previously unselected package tesseract-ocr-eng.\n",
            "(Reading database ... 155629 files and directories currently installed.)\n",
            "Preparing to unpack .../tesseract-ocr-eng_4.00~git24-0e00fe6-1.2_all.deb ...\n",
            "Unpacking tesseract-ocr-eng (4.00~git24-0e00fe6-1.2) ...\n",
            "Selecting previously unselected package tesseract-ocr-osd.\n",
            "Preparing to unpack .../tesseract-ocr-osd_4.00~git24-0e00fe6-1.2_all.deb ...\n",
            "Unpacking tesseract-ocr-osd (4.00~git24-0e00fe6-1.2) ...\n",
            "Selecting previously unselected package tesseract-ocr.\n",
            "Preparing to unpack .../tesseract-ocr_4.00~git2288-10f4998a-2_amd64.deb ...\n",
            "Unpacking tesseract-ocr (4.00~git2288-10f4998a-2) ...\n",
            "Setting up tesseract-ocr-osd (4.00~git24-0e00fe6-1.2) ...\n",
            "Setting up tesseract-ocr-eng (4.00~git24-0e00fe6-1.2) ...\n",
            "Setting up tesseract-ocr (4.00~git2288-10f4998a-2) ...\n",
            "Processing triggers for man-db (2.8.3-2ubuntu0.1) ...\n"
          ]
        }
      ]
    },
    {
      "cell_type": "code",
      "source": [
        "!pip install -U pillow"
      ],
      "metadata": {
        "colab": {
          "base_uri": "https://localhost:8080/",
          "height": 251
        },
        "id": "dgQxjxJglQKz",
        "outputId": "24dd0619-782b-40a4-94bb-7953d1f3bf77"
      },
      "execution_count": null,
      "outputs": [
        {
          "output_type": "stream",
          "name": "stdout",
          "text": [
            "Looking in indexes: https://pypi.org/simple, https://us-python.pkg.dev/colab-wheels/public/simple/\n",
            "Collecting pillow\n",
            "  Using cached Pillow-9.1.1-cp37-cp37m-manylinux_2_17_x86_64.manylinux2014_x86_64.whl (3.1 MB)\n",
            "Installing collected packages: pillow\n",
            "\u001b[31mERROR: pip's dependency resolver does not currently take into account all the packages that are installed. This behaviour is the source of the following dependency conflicts.\n",
            "albumentations 0.1.12 requires imgaug<0.2.7,>=0.2.5, but you have imgaug 0.2.9 which is incompatible.\u001b[0m\n",
            "Successfully installed pillow-9.1.1\n"
          ]
        },
        {
          "output_type": "display_data",
          "data": {
            "application/vnd.colab-display-data+json": {
              "pip_warning": {
                "packages": [
                  "PIL"
                ]
              }
            }
          },
          "metadata": {}
        }
      ]
    },
    {
      "cell_type": "code",
      "source": [
        "import cv2\n",
        "import matplotlib.pyplot as plt\n",
        "file=r'img.png'\n",
        "img = cv2.imread(file,0)\n",
        "kernel = cv2.getStructuringElement(cv2.MORPH_RECT, (2, 2))\n",
        "img_bin2 = 255-img\n",
        "thresh1,img_bin_otsu = cv2.threshold(img_bin2,128,255,cv2.THRESH_BINARY | cv2.THRESH_OTSU)\n",
        "import numpy as np\n",
        "vertical_kernel = cv2.getStructuringElement(cv2.MORPH_RECT, (1, np.array(img).shape[1]//100))\n",
        "eroded_image = cv2.erode(img_bin_otsu, vertical_kernel, iterations=3)\n",
        "vertical_lines = cv2.dilate(eroded_image, vertical_kernel, iterations=3)\n",
        "hor_kernel = cv2.getStructuringElement(cv2.MORPH_RECT, (np.array(img).shape[1]//100, 1))\n",
        "horizontal_lines = cv2.erode(img_bin_otsu, hor_kernel, iterations=5)\n",
        "horizontal_lines = cv2.dilate(horizontal_lines, hor_kernel, iterations=5)\n",
        "vertical_horizontal_lines = cv2.addWeighted(vertical_lines, 0.5, horizontal_lines, 0.5, 0.0)\n",
        "vertical_horizontal_lines = cv2.erode(~vertical_horizontal_lines, kernel, iterations=3)\n",
        "thresh, vertical_horizontal_lines = cv2.threshold(vertical_horizontal_lines,128,255, cv2.THRESH_BINARY | cv2.THRESH_OTSU)\n",
        "bitxor = cv2.bitwise_xor(img,vertical_horizontal_lines)\n",
        "bitnot = cv2.bitwise_not(bitxor)\n",
        "import pytesseract\n",
        "contours, hierarchy = cv2.findContours(vertical_horizontal_lines, cv2.RETR_TREE, cv2.CHAIN_APPROX_SIMPLE)\n",
        "boundingBoxes = [cv2.boundingRect(contour) for contour in contours]\n",
        "(contours, boundingBoxes) = zip(*sorted(zip(contours, boundingBoxes),key=lambda x:x[1][1]))\n",
        "boxes = []\n",
        "for contour in contours:\n",
        "  x, y, w, h = cv2.boundingRect(contour)\n",
        "  if (w<1000 and h<500):\n",
        "    image = cv2.rectangle(img,(x,y),(x+w,y+h),(0,255,0),2)\n",
        "    boxes.append([x,y,w,h])\n",
        "plotting = plt.imshow(image,cmap='gray')\n",
        "plt.title(\"Identified contours\")\n",
        "plt.show()\n",
        "rows=[]\n",
        "columns=[]\n",
        "heights = [boundingBoxes[i][3] for i in range(len(boundingBoxes))]\n",
        "mean = np.mean(heights)\n",
        "print(mean)\n",
        "columns.append(boxes[0])\n",
        "previous=boxes[0]\n",
        "for i in range(1,len(boxes)):\n",
        "  if(boxes[i][1]<=previous[1]+mean/2):\n",
        "    columns.append(boxes[i])\n",
        "    previous=boxes[i]\n",
        "    if(i==len(boxes)-1):\n",
        "      rows.append(columns)\n",
        "  else:\n",
        "    rows.append(columns)\n",
        "    columns=[]\n",
        "    previous = boxes[i]\n",
        "    columns.append(boxes[i])\n",
        "print(\"Rows\")\n",
        "for row in rows:\n",
        "  print(row)\n",
        "total_cells=0\n",
        "for i in range(len(row)):\n",
        "  if len(row[i]) > total_cells:\n",
        "    total_cells = len(row[i])\n",
        "print(total_cells)\n",
        "center = [int(rows[i][j][0]+rows[i][j][2]/2) for j in range(len(rows[i])) if rows[0]]\n",
        "print(center)\n",
        "center=np.array(center)\n",
        "center.sort()\n",
        "print(center)\n",
        "boxes_list = []\n",
        "for i in range(len(rows)):\n",
        "    l=[]\n",
        "    for k in range(total_cells):\n",
        "        l.append([])\n",
        "    for j in range(len(rows[i])):\n",
        "        diff = abs(center-(rows[i][j][0]+rows[i][j][2]/4))\n",
        "        minimum = min(diff)\n",
        "        indexing = list(diff).index(minimum)\n",
        "        l[indexing].append(rows[i][j])\n",
        "    boxes_list.append(l)\n",
        "for box in boxes_list:\n",
        "  print(box)\n",
        "dataframe_final=[]\n",
        "for i in range(len(boxes_list)):\n",
        "    for j in range(len(boxes_list[i])):\n",
        "        s=''\n",
        "        if(len(boxes_list[i][j])==0):\n",
        "            dataframe_final.append(' ')\n",
        "        else:\n",
        "            for k in range(len(boxes_list[i][j])):\n",
        "                y,x,w,h = boxes_list[i][j][k][0],boxes_list[i][j][k][1], boxes_list[i][j][k][2],boxes_list[i][j][k][3]\n",
        "                roi = bitnot[x:x+h, y:y+w]\n",
        "                kernel = cv2.getStructuringElement(cv2.MORPH_RECT, (2, 1))\n",
        "                border = cv2.copyMakeBorder(roi,2,2,2,2, cv2.BORDER_CONSTANT,value=[255,255])\n",
        "                resizing = cv2.resize(border, None, fx=2, fy=2, interpolation=cv2.INTER_CUBIC)\n",
        "                dilation = cv2.dilate(resizing, kernel,iterations=1)\n",
        "                erosion = cv2.erode(dilation, kernel,iterations=2)                \n",
        "                out = pytesseract.image_to_string(erosion)\n",
        "                if(len(out)==0):\n",
        "                    out = pytesseract.image_to_string(erosion)\n",
        "                s = s +\" \"+ out\n",
        "            dataframe_final.append(s)\n",
        "print(dataframe_final)\n",
        "arr = np.array(dataframe_final)\n",
        "import pandas as pd\n",
        "dataframe = pd.DataFrame(arr.reshape(len(rows), total_cells))\n",
        "data = dataframe.style.set_properties(align=\"left\")\n",
        "#print(data)\n",
        "#print(dataframe)\n",
        "d=[]\n",
        "for i in range(0,len(rows)):\n",
        "  for j in range(0,total_cells):\n",
        "    print(dataframe[i][j],end=\" \")\n",
        "  print()\n",
        "print(dataframe)\n",
        "dataframe.to_csv(\"output1.csv\",encoding=\"utf-8-sig\")\n"
      ],
      "metadata": {
        "colab": {
          "base_uri": "https://localhost:8080/",
          "height": 1000
        },
        "id": "0WXMQ8pwliPI",
        "outputId": "63c75f7e-6a43-48f1-e802-0d034e0fa990"
      },
      "execution_count": null,
      "outputs": [
        {
          "output_type": "display_data",
          "data": {
            "text/plain": [
              "<Figure size 432x288 with 1 Axes>"
            ],
            "image/png": "[encoded data removed]"
          },
          "metadata": {
            "needs_background": "light"
          }
        },
        {
          "output_type": "stream",
          "name": "stdout",
          "text": [
            "71.8\n",
            "Rows\n",
            "[[14, 153, 505, 177], [20, 159, 4, 2], [304, 163, 200, 31], [151, 163, 143, 31], [24, 163, 117, 31]]\n",
            "[[304, 204, 200, 31], [151, 204, 143, 31], [24, 204, 117, 31]]\n",
            "[[304, 245, 200, 31], [151, 245, 143, 31], [24, 245, 117, 31]]\n",
            "[[304, 286, 200, 31], [151, 286, 143, 31], [24, 286, 117, 31]]\n",
            "4\n",
            "[404, 222, 82]\n",
            "[ 82 222 404]\n",
            "[[[14, 153, 505, 177], [20, 159, 4, 2], [24, 163, 117, 31]], [[151, 163, 143, 31]], [[304, 163, 200, 31]], []]\n",
            "[[[24, 204, 117, 31]], [[151, 204, 143, 31]], [[304, 204, 200, 31]], []]\n",
            "[[[24, 245, 117, 31]], [[151, 245, 143, 31]], [[304, 245, 200, 31]], []]\n",
            "[[[24, 286, 117, 31]], [[151, 286, 143, 31]], [[304, 286, 200, 31]], []]\n",
            "[' —\\n=\\n~\\nSo\\n5\\na\\n\\n \\n\\x0c \\x0c S.No\\n\\x0c', ' Name\\n\\x0c', ' Amount\\n\\x0c', ' ', ' 101\\n\\x0c', ' aaa\\n\\x0c', ' 12,256\\n\\x0c', ' ', ' 102\\n\\x0c', ' bbb\\n\\x0c', ' 8,256\\n\\x0c', ' ', ' 103\\n\\x0c', ' ccc\\n\\x0c', ' 24,525\\n\\x0c', ' ']\n",
            " —\n",
            "=\n",
            "~\n",
            "So\n",
            "5\n",
            "a\n",
            "\n",
            " \n",
            "\f \f S.No\n",
            "\f  101\n",
            "\f  102\n",
            "\f  103\n",
            "\f \n",
            " Name\n",
            "\f  aaa\n",
            "\f  bbb\n",
            "\f  ccc\n",
            "\f \n",
            " Amount\n",
            "\f  12,256\n",
            "\f  8,256\n",
            "\f  24,525\n",
            "\f \n",
            "        \n",
            "                                      0         1           2  3\n",
            "0   —\\n=\\n~\\nSo\\n5\\na\\n\\n \\n\f \f S.No\\n\f   Name\\n\f   Amount\\n\f   \n",
            "1                                101\\n\f    aaa\\n\f   12,256\\n\f   \n",
            "2                                102\\n\f    bbb\\n\f    8,256\\n\f   \n",
            "3                                103\\n\f    ccc\\n\f   24,525\\n\f   \n"
          ]
        }
      ]
    },
    {
      "cell_type": "code",
      "source": [
        "from PIL import Image\n",
        "import pytesseract\n",
        "\n",
        "image = 'img.png'\n",
        "text = pytesseract.image_to_string(Image.open(image), lang=\"eng\")\n",
        "print(text)"
      ],
      "metadata": {
        "colab": {
          "base_uri": "https://localhost:8080/"
        },
        "id": "0ceo2SCQzAUw",
        "outputId": "5d118cf1-b7ff-4e76-e292-dc97d9a2346c"
      },
      "execution_count": null,
      "outputs": [
        {
          "output_type": "stream",
          "name": "stdout",
          "text": [
            " \n",
            "\n",
            " \n",
            "\n",
            "[) Teble Tag with Header x +\n",
            "\n",
            "CQ O File | file///C:/Users/Syed/Desktop/Web%20Prog.. Q %& VY @\n",
            "\n",
            "This is the demonstration of displaying Tables with Header\n",
            "\n",
            " \n",
            "\n",
            " \n",
            "\n",
            " \n",
            "\n",
            " \n",
            "\n",
            " \n",
            "\n",
            " \n",
            "\n",
            " \n",
            "\n",
            " \n",
            "\n",
            "S.No Name Amount\n",
            "101 laaa 12,256\n",
            "102 Ibbb 8,256\n",
            "103 lece 24,525\n",
            "\n",
            " \n",
            "\n",
            " \n",
            "\n",
            " \n",
            "\n",
            " \n",
            "\n",
            " \n",
            "\n",
            " \n",
            "\n",
            " \n",
            "\n",
            " \n",
            "\n",
            " \n",
            "\n",
            " \n",
            "\n",
            "Bev e\n",
            "\n",
            "ao\n",
            "\n",
            "x\n",
            "\n",
            "a:\n",
            "\n",
            " \n",
            "\n",
            " \n",
            "\f\n"
          ]
        }
      ]
    },
    {
      "cell_type": "code",
      "source": [
        "with open('abc.txt',mode ='w') as file:\n",
        "  file.write(text)\n",
        "  #print(result)"
      ],
      "metadata": {
        "id": "pBUlzk4BzNJT"
      },
      "execution_count": null,
      "outputs": []
    }
  ]
}